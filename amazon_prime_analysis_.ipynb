{
  "cells": [
    {
      "cell_type": "markdown",
      "metadata": {
        "id": "view-in-github",
        "colab_type": "text"
      },
      "source": [
        "<a href=\"https://colab.research.google.com/github/durgasrilakshmigithub/durga/blob/main/amazon_prime_analysis_.ipynb\" target=\"_parent\"><img src=\"https://colab.research.google.com/assets/colab-badge.svg\" alt=\"Open In Colab\"/></a>"
      ]
    },
    {
      "cell_type": "code",
      "execution_count": null,
      "id": "e30c803d",
      "metadata": {
        "id": "e30c803d"
      },
      "outputs": [],
      "source": [
        "import numpy as np\n",
        "import pandas as pd\n",
        "import matplotlib.pyplot as plt\n",
        "import seaborn as sns"
      ]
    },
    {
      "cell_type": "code",
      "execution_count": null,
      "id": "430e2f8c",
      "metadata": {
        "id": "430e2f8c"
      },
      "outputs": [],
      "source": [
        "df =pd.read_csv(r\"C:\\Users\\durga\\Downloads\\archive (1)\\amazon_prime_titles.csv\")"
      ]
    },
    {
      "cell_type": "code",
      "execution_count": null,
      "id": "dfbd01fd",
      "metadata": {
        "id": "dfbd01fd",
        "outputId": "a54471f8-5450-4ccf-c3cc-faa7ce095f68"
      },
      "outputs": [
        {
          "data": {
            "text/html": [
              "<div>\n",
              "<style scoped>\n",
              "    .dataframe tbody tr th:only-of-type {\n",
              "        vertical-align: middle;\n",
              "    }\n",
              "\n",
              "    .dataframe tbody tr th {\n",
              "        vertical-align: top;\n",
              "    }\n",
              "\n",
              "    .dataframe thead th {\n",
              "        text-align: right;\n",
              "    }\n",
              "</style>\n",
              "<table border=\"1\" class=\"dataframe\">\n",
              "  <thead>\n",
              "    <tr style=\"text-align: right;\">\n",
              "      <th></th>\n",
              "      <th>show_id</th>\n",
              "      <th>type</th>\n",
              "      <th>title</th>\n",
              "      <th>director</th>\n",
              "      <th>cast</th>\n",
              "      <th>country</th>\n",
              "      <th>date_added</th>\n",
              "      <th>release_year</th>\n",
              "      <th>rating</th>\n",
              "      <th>duration</th>\n",
              "      <th>listed_in</th>\n",
              "      <th>description</th>\n",
              "    </tr>\n",
              "  </thead>\n",
              "  <tbody>\n",
              "    <tr>\n",
              "      <th>9108</th>\n",
              "      <td>s9109</td>\n",
              "      <td>Movie</td>\n",
              "      <td>Scarecrows</td>\n",
              "      <td>William Wesley</td>\n",
              "      <td>David James Campbell, Michael Simms, Mike Balo...</td>\n",
              "      <td>NaN</td>\n",
              "      <td>NaN</td>\n",
              "      <td>1988</td>\n",
              "      <td>R</td>\n",
              "      <td>83 min</td>\n",
              "      <td>Horror</td>\n",
              "      <td>Five crooks rob an army base payroll and kidna...</td>\n",
              "    </tr>\n",
              "    <tr>\n",
              "      <th>5586</th>\n",
              "      <td>s5587</td>\n",
              "      <td>Movie</td>\n",
              "      <td>Gamera 2: Attack of the Legion</td>\n",
              "      <td>Shûsuke Kaneko</td>\n",
              "      <td>Toshiyuki Nagashima, Miki Mizuno, Tamotsu Ishi...</td>\n",
              "      <td>NaN</td>\n",
              "      <td>NaN</td>\n",
              "      <td>1996</td>\n",
              "      <td>13+</td>\n",
              "      <td>100 min</td>\n",
              "      <td>Action, Science Fiction</td>\n",
              "      <td>One year after the events of the previous Game...</td>\n",
              "    </tr>\n",
              "    <tr>\n",
              "      <th>3612</th>\n",
              "      <td>s3613</td>\n",
              "      <td>Movie</td>\n",
              "      <td>Nightmare At Bitter Creek</td>\n",
              "      <td>Tim Burstall</td>\n",
              "      <td>Lindsay Wagner, Tom Skerritt, Constance McCash...</td>\n",
              "      <td>NaN</td>\n",
              "      <td>NaN</td>\n",
              "      <td>1988</td>\n",
              "      <td>16+</td>\n",
              "      <td>92 min</td>\n",
              "      <td>Action, Adventure, Suspense</td>\n",
              "      <td>Four women play a terrifying game of cat and m...</td>\n",
              "    </tr>\n",
              "    <tr>\n",
              "      <th>4513</th>\n",
              "      <td>s4514</td>\n",
              "      <td>Movie</td>\n",
              "      <td>Interlude</td>\n",
              "      <td>Herve Bodilis</td>\n",
              "      <td>Vincent Winterhalter, Sopnie Verbeek, Dinara D...</td>\n",
              "      <td>NaN</td>\n",
              "      <td>NaN</td>\n",
              "      <td>2016</td>\n",
              "      <td>R</td>\n",
              "      <td>95 min</td>\n",
              "      <td>Comedy, International</td>\n",
              "      <td>Raphaël buys a boat and convinces his two frie...</td>\n",
              "    </tr>\n",
              "  </tbody>\n",
              "</table>\n",
              "</div>"
            ],
            "text/plain": [
              "     show_id   type                           title        director  \\\n",
              "9108   s9109  Movie                      Scarecrows  William Wesley   \n",
              "5586   s5587  Movie  Gamera 2: Attack of the Legion  Shûsuke Kaneko   \n",
              "3612   s3613  Movie       Nightmare At Bitter Creek    Tim Burstall   \n",
              "4513   s4514  Movie                       Interlude   Herve Bodilis   \n",
              "\n",
              "                                                   cast country date_added  \\\n",
              "9108  David James Campbell, Michael Simms, Mike Balo...     NaN        NaN   \n",
              "5586  Toshiyuki Nagashima, Miki Mizuno, Tamotsu Ishi...     NaN        NaN   \n",
              "3612  Lindsay Wagner, Tom Skerritt, Constance McCash...     NaN        NaN   \n",
              "4513  Vincent Winterhalter, Sopnie Verbeek, Dinara D...     NaN        NaN   \n",
              "\n",
              "      release_year rating duration                    listed_in  \\\n",
              "9108          1988      R   83 min                       Horror   \n",
              "5586          1996    13+  100 min      Action, Science Fiction   \n",
              "3612          1988    16+   92 min  Action, Adventure, Suspense   \n",
              "4513          2016      R   95 min        Comedy, International   \n",
              "\n",
              "                                            description  \n",
              "9108  Five crooks rob an army base payroll and kidna...  \n",
              "5586  One year after the events of the previous Game...  \n",
              "3612  Four women play a terrifying game of cat and m...  \n",
              "4513  Raphaël buys a boat and convinces his two frie...  "
            ]
          },
          "execution_count": 8,
          "metadata": {},
          "output_type": "execute_result"
        }
      ],
      "source": [
        "df.sample(4)"
      ]
    },
    {
      "cell_type": "code",
      "execution_count": null,
      "id": "6253aa4a",
      "metadata": {
        "id": "6253aa4a",
        "outputId": "b270f658-eff9-4933-a939-df890de869fd"
      },
      "outputs": [
        {
          "name": "stdout",
          "output_type": "stream",
          "text": [
            "<class 'pandas.core.frame.DataFrame'>\n",
            "RangeIndex: 9668 entries, 0 to 9667\n",
            "Data columns (total 12 columns):\n",
            " #   Column        Non-Null Count  Dtype \n",
            "---  ------        --------------  ----- \n",
            " 0   show_id       9668 non-null   object\n",
            " 1   type          9668 non-null   object\n",
            " 2   title         9668 non-null   object\n",
            " 3   director      7586 non-null   object\n",
            " 4   cast          8435 non-null   object\n",
            " 5   country       672 non-null    object\n",
            " 6   date_added    155 non-null    object\n",
            " 7   release_year  9668 non-null   int64 \n",
            " 8   rating        9331 non-null   object\n",
            " 9   duration      9668 non-null   object\n",
            " 10  listed_in     9668 non-null   object\n",
            " 11  description   9668 non-null   object\n",
            "dtypes: int64(1), object(11)\n",
            "memory usage: 906.5+ KB\n"
          ]
        }
      ],
      "source": [
        "df.info()"
      ]
    },
    {
      "cell_type": "code",
      "execution_count": null,
      "id": "bcda8b07",
      "metadata": {
        "id": "bcda8b07",
        "outputId": "847be25f-4a51-4f54-e369-6b872ceb0c1b"
      },
      "outputs": [
        {
          "data": {
            "text/plain": [
              "(9668, 12)"
            ]
          },
          "execution_count": 27,
          "metadata": {},
          "output_type": "execute_result"
        }
      ],
      "source": [
        "df.shape"
      ]
    },
    {
      "cell_type": "code",
      "execution_count": null,
      "id": "64bc7e6d",
      "metadata": {
        "id": "64bc7e6d",
        "outputId": "695df331-ff0a-42e1-b391-c2b981b1922d"
      },
      "outputs": [
        {
          "data": {
            "text/plain": [
              "116016"
            ]
          },
          "execution_count": 30,
          "metadata": {},
          "output_type": "execute_result"
        }
      ],
      "source": [
        "df.size"
      ]
    },
    {
      "cell_type": "code",
      "execution_count": null,
      "id": "8a070620",
      "metadata": {
        "id": "8a070620",
        "outputId": "6148898d-d9b8-40b7-d0e1-120fddd89546"
      },
      "outputs": [
        {
          "data": {
            "text/plain": [
              "Index(['show_id', 'type', 'title', 'director', 'cast', 'country', 'date_added',\n",
              "       'release_year', 'rating', 'duration', 'listed_in', 'description'],\n",
              "      dtype='object')"
            ]
          },
          "execution_count": 34,
          "metadata": {},
          "output_type": "execute_result"
        }
      ],
      "source": [
        "df.columns"
      ]
    },
    {
      "cell_type": "code",
      "execution_count": null,
      "id": "1c156078",
      "metadata": {
        "id": "1c156078",
        "outputId": "c69cc361-2370-4f5d-a4a9-b3abec631449"
      },
      "outputs": [
        {
          "data": {
            "text/html": [
              "<div>\n",
              "<style scoped>\n",
              "    .dataframe tbody tr th:only-of-type {\n",
              "        vertical-align: middle;\n",
              "    }\n",
              "\n",
              "    .dataframe tbody tr th {\n",
              "        vertical-align: top;\n",
              "    }\n",
              "\n",
              "    .dataframe thead th {\n",
              "        text-align: right;\n",
              "    }\n",
              "</style>\n",
              "<table border=\"1\" class=\"dataframe\">\n",
              "  <thead>\n",
              "    <tr style=\"text-align: right;\">\n",
              "      <th></th>\n",
              "      <th>release_year</th>\n",
              "    </tr>\n",
              "  </thead>\n",
              "  <tbody>\n",
              "    <tr>\n",
              "      <th>count</th>\n",
              "      <td>9668.000000</td>\n",
              "    </tr>\n",
              "    <tr>\n",
              "      <th>mean</th>\n",
              "      <td>2008.341849</td>\n",
              "    </tr>\n",
              "    <tr>\n",
              "      <th>std</th>\n",
              "      <td>18.922482</td>\n",
              "    </tr>\n",
              "    <tr>\n",
              "      <th>min</th>\n",
              "      <td>1920.000000</td>\n",
              "    </tr>\n",
              "    <tr>\n",
              "      <th>25%</th>\n",
              "      <td>2007.000000</td>\n",
              "    </tr>\n",
              "    <tr>\n",
              "      <th>50%</th>\n",
              "      <td>2016.000000</td>\n",
              "    </tr>\n",
              "    <tr>\n",
              "      <th>75%</th>\n",
              "      <td>2019.000000</td>\n",
              "    </tr>\n",
              "    <tr>\n",
              "      <th>max</th>\n",
              "      <td>2021.000000</td>\n",
              "    </tr>\n",
              "  </tbody>\n",
              "</table>\n",
              "</div>"
            ],
            "text/plain": [
              "       release_year\n",
              "count   9668.000000\n",
              "mean    2008.341849\n",
              "std       18.922482\n",
              "min     1920.000000\n",
              "25%     2007.000000\n",
              "50%     2016.000000\n",
              "75%     2019.000000\n",
              "max     2021.000000"
            ]
          },
          "execution_count": 52,
          "metadata": {},
          "output_type": "execute_result"
        }
      ],
      "source": [
        "df.describe()"
      ]
    },
    {
      "cell_type": "markdown",
      "id": "6474c1b2",
      "metadata": {
        "id": "6474c1b2"
      },
      "source": [
        "# Adjust the data type and fill the missing values"
      ]
    },
    {
      "cell_type": "markdown",
      "id": "7e73a500",
      "metadata": {
        "id": "7e73a500"
      },
      "source": [
        "As date_added is in object datatype we need to change it"
      ]
    },
    {
      "cell_type": "markdown",
      "id": "3f39b4ce",
      "metadata": {
        "id": "3f39b4ce"
      },
      "source": [
        "#convert the data type from object to datetime"
      ]
    },
    {
      "cell_type": "code",
      "execution_count": null,
      "id": "fd11ec2a",
      "metadata": {
        "id": "fd11ec2a"
      },
      "outputs": [],
      "source": [
        "df['date_added'] = pd.to_datetime(df['date_added'])"
      ]
    },
    {
      "cell_type": "code",
      "execution_count": null,
      "id": "c17c8652",
      "metadata": {
        "id": "c17c8652",
        "outputId": "b137afd0-8dca-4093-b5e1-ec252ca297a9"
      },
      "outputs": [
        {
          "data": {
            "text/html": [
              "<div>\n",
              "<style scoped>\n",
              "    .dataframe tbody tr th:only-of-type {\n",
              "        vertical-align: middle;\n",
              "    }\n",
              "\n",
              "    .dataframe tbody tr th {\n",
              "        vertical-align: top;\n",
              "    }\n",
              "\n",
              "    .dataframe thead th {\n",
              "        text-align: right;\n",
              "    }\n",
              "</style>\n",
              "<table border=\"1\" class=\"dataframe\">\n",
              "  <thead>\n",
              "    <tr style=\"text-align: right;\">\n",
              "      <th></th>\n",
              "      <th>show_id</th>\n",
              "      <th>type</th>\n",
              "      <th>title</th>\n",
              "      <th>director</th>\n",
              "      <th>cast</th>\n",
              "      <th>country</th>\n",
              "      <th>date_added</th>\n",
              "      <th>release_year</th>\n",
              "      <th>rating</th>\n",
              "      <th>duration</th>\n",
              "      <th>listed_in</th>\n",
              "      <th>description</th>\n",
              "    </tr>\n",
              "  </thead>\n",
              "  <tbody>\n",
              "    <tr>\n",
              "      <th>0</th>\n",
              "      <td>s1</td>\n",
              "      <td>Movie</td>\n",
              "      <td>The Grand Seduction</td>\n",
              "      <td>Don McKellar</td>\n",
              "      <td>Brendan Gleeson, Taylor Kitsch, Gordon Pinsent</td>\n",
              "      <td>Canada</td>\n",
              "      <td>2021-03-30</td>\n",
              "      <td>2014</td>\n",
              "      <td>NaN</td>\n",
              "      <td>113 min</td>\n",
              "      <td>Comedy, Drama</td>\n",
              "      <td>A small fishing village must procure a local d...</td>\n",
              "    </tr>\n",
              "    <tr>\n",
              "      <th>1</th>\n",
              "      <td>s2</td>\n",
              "      <td>Movie</td>\n",
              "      <td>Take Care Good Night</td>\n",
              "      <td>Girish Joshi</td>\n",
              "      <td>Mahesh Manjrekar, Abhay Mahajan, Sachin Khedekar</td>\n",
              "      <td>India</td>\n",
              "      <td>2021-03-30</td>\n",
              "      <td>2018</td>\n",
              "      <td>13+</td>\n",
              "      <td>110 min</td>\n",
              "      <td>Drama, International</td>\n",
              "      <td>A Metro Family decides to fight a Cyber Crimin...</td>\n",
              "    </tr>\n",
              "    <tr>\n",
              "      <th>2</th>\n",
              "      <td>s3</td>\n",
              "      <td>Movie</td>\n",
              "      <td>Secrets of Deception</td>\n",
              "      <td>Josh Webber</td>\n",
              "      <td>Tom Sizemore, Lorenzo Lamas, Robert LaSardo, R...</td>\n",
              "      <td>United States</td>\n",
              "      <td>2021-03-30</td>\n",
              "      <td>2017</td>\n",
              "      <td>NaN</td>\n",
              "      <td>74 min</td>\n",
              "      <td>Action, Drama, Suspense</td>\n",
              "      <td>After a man discovers his wife is cheating on ...</td>\n",
              "    </tr>\n",
              "    <tr>\n",
              "      <th>3</th>\n",
              "      <td>s4</td>\n",
              "      <td>Movie</td>\n",
              "      <td>Pink: Staying True</td>\n",
              "      <td>Sonia Anderson</td>\n",
              "      <td>Interviews with: Pink, Adele, Beyoncé, Britney...</td>\n",
              "      <td>United States</td>\n",
              "      <td>2021-03-30</td>\n",
              "      <td>2014</td>\n",
              "      <td>NaN</td>\n",
              "      <td>69 min</td>\n",
              "      <td>Documentary</td>\n",
              "      <td>Pink breaks the mold once again, bringing her ...</td>\n",
              "    </tr>\n",
              "    <tr>\n",
              "      <th>4</th>\n",
              "      <td>s5</td>\n",
              "      <td>Movie</td>\n",
              "      <td>Monster Maker</td>\n",
              "      <td>Giles Foster</td>\n",
              "      <td>Harry Dean Stanton, Kieran O'Brien, George Cos...</td>\n",
              "      <td>United Kingdom</td>\n",
              "      <td>2021-03-30</td>\n",
              "      <td>1989</td>\n",
              "      <td>NaN</td>\n",
              "      <td>45 min</td>\n",
              "      <td>Drama, Fantasy</td>\n",
              "      <td>Teenage Matt Banting wants to work with a famo...</td>\n",
              "    </tr>\n",
              "    <tr>\n",
              "      <th>...</th>\n",
              "      <td>...</td>\n",
              "      <td>...</td>\n",
              "      <td>...</td>\n",
              "      <td>...</td>\n",
              "      <td>...</td>\n",
              "      <td>...</td>\n",
              "      <td>...</td>\n",
              "      <td>...</td>\n",
              "      <td>...</td>\n",
              "      <td>...</td>\n",
              "      <td>...</td>\n",
              "      <td>...</td>\n",
              "    </tr>\n",
              "    <tr>\n",
              "      <th>9663</th>\n",
              "      <td>s9664</td>\n",
              "      <td>Movie</td>\n",
              "      <td>Pride Of The Bowery</td>\n",
              "      <td>Joseph H. Lewis</td>\n",
              "      <td>Leo Gorcey, Bobby Jordan</td>\n",
              "      <td>NaN</td>\n",
              "      <td>NaT</td>\n",
              "      <td>1940</td>\n",
              "      <td>7+</td>\n",
              "      <td>60 min</td>\n",
              "      <td>Comedy</td>\n",
              "      <td>New York City street principles get an East Si...</td>\n",
              "    </tr>\n",
              "    <tr>\n",
              "      <th>9664</th>\n",
              "      <td>s9665</td>\n",
              "      <td>TV Show</td>\n",
              "      <td>Planet Patrol</td>\n",
              "      <td>NaN</td>\n",
              "      <td>DICK VOSBURGH, RONNIE STEVENS, LIBBY MORRIS, M...</td>\n",
              "      <td>NaN</td>\n",
              "      <td>NaT</td>\n",
              "      <td>2018</td>\n",
              "      <td>13+</td>\n",
              "      <td>4 Seasons</td>\n",
              "      <td>TV Shows</td>\n",
              "      <td>This is Earth, 2100AD - and these are the adve...</td>\n",
              "    </tr>\n",
              "    <tr>\n",
              "      <th>9665</th>\n",
              "      <td>s9666</td>\n",
              "      <td>Movie</td>\n",
              "      <td>Outpost</td>\n",
              "      <td>Steve Barker</td>\n",
              "      <td>Ray Stevenson, Julian Wadham, Richard Brake, M...</td>\n",
              "      <td>NaN</td>\n",
              "      <td>NaT</td>\n",
              "      <td>2008</td>\n",
              "      <td>R</td>\n",
              "      <td>90 min</td>\n",
              "      <td>Action</td>\n",
              "      <td>In war-torn Eastern Europe, a world-weary grou...</td>\n",
              "    </tr>\n",
              "    <tr>\n",
              "      <th>9666</th>\n",
              "      <td>s9667</td>\n",
              "      <td>TV Show</td>\n",
              "      <td>Maradona: Blessed Dream</td>\n",
              "      <td>NaN</td>\n",
              "      <td>Esteban Recagno, Ezequiel Stremiz, Luciano Vit...</td>\n",
              "      <td>NaN</td>\n",
              "      <td>NaT</td>\n",
              "      <td>2021</td>\n",
              "      <td>TV-MA</td>\n",
              "      <td>1 Season</td>\n",
              "      <td>Drama, Sports</td>\n",
              "      <td>The series tells the story of Diego Maradona, ...</td>\n",
              "    </tr>\n",
              "    <tr>\n",
              "      <th>9667</th>\n",
              "      <td>s9668</td>\n",
              "      <td>Movie</td>\n",
              "      <td>Harry Brown</td>\n",
              "      <td>Daniel Barber</td>\n",
              "      <td>Michael Caine, Emily Mortimer, Joseph Gilgun, ...</td>\n",
              "      <td>NaN</td>\n",
              "      <td>NaT</td>\n",
              "      <td>2010</td>\n",
              "      <td>R</td>\n",
              "      <td>103 min</td>\n",
              "      <td>Action, Drama, Suspense</td>\n",
              "      <td>Harry Brown, starring two-time Academy Award w...</td>\n",
              "    </tr>\n",
              "  </tbody>\n",
              "</table>\n",
              "<p>9668 rows × 12 columns</p>\n",
              "</div>"
            ],
            "text/plain": [
              "     show_id     type                    title         director  \\\n",
              "0         s1    Movie      The Grand Seduction     Don McKellar   \n",
              "1         s2    Movie     Take Care Good Night     Girish Joshi   \n",
              "2         s3    Movie     Secrets of Deception      Josh Webber   \n",
              "3         s4    Movie       Pink: Staying True   Sonia Anderson   \n",
              "4         s5    Movie            Monster Maker     Giles Foster   \n",
              "...      ...      ...                      ...              ...   \n",
              "9663   s9664    Movie      Pride Of The Bowery  Joseph H. Lewis   \n",
              "9664   s9665  TV Show            Planet Patrol              NaN   \n",
              "9665   s9666    Movie                  Outpost     Steve Barker   \n",
              "9666   s9667  TV Show  Maradona: Blessed Dream              NaN   \n",
              "9667   s9668    Movie              Harry Brown    Daniel Barber   \n",
              "\n",
              "                                                   cast         country  \\\n",
              "0        Brendan Gleeson, Taylor Kitsch, Gordon Pinsent          Canada   \n",
              "1      Mahesh Manjrekar, Abhay Mahajan, Sachin Khedekar           India   \n",
              "2     Tom Sizemore, Lorenzo Lamas, Robert LaSardo, R...   United States   \n",
              "3     Interviews with: Pink, Adele, Beyoncé, Britney...   United States   \n",
              "4     Harry Dean Stanton, Kieran O'Brien, George Cos...  United Kingdom   \n",
              "...                                                 ...             ...   \n",
              "9663                           Leo Gorcey, Bobby Jordan             NaN   \n",
              "9664  DICK VOSBURGH, RONNIE STEVENS, LIBBY MORRIS, M...             NaN   \n",
              "9665  Ray Stevenson, Julian Wadham, Richard Brake, M...             NaN   \n",
              "9666  Esteban Recagno, Ezequiel Stremiz, Luciano Vit...             NaN   \n",
              "9667  Michael Caine, Emily Mortimer, Joseph Gilgun, ...             NaN   \n",
              "\n",
              "     date_added  release_year rating   duration                listed_in  \\\n",
              "0    2021-03-30          2014    NaN    113 min            Comedy, Drama   \n",
              "1    2021-03-30          2018    13+    110 min     Drama, International   \n",
              "2    2021-03-30          2017    NaN     74 min  Action, Drama, Suspense   \n",
              "3    2021-03-30          2014    NaN     69 min              Documentary   \n",
              "4    2021-03-30          1989    NaN     45 min           Drama, Fantasy   \n",
              "...         ...           ...    ...        ...                      ...   \n",
              "9663        NaT          1940     7+     60 min                   Comedy   \n",
              "9664        NaT          2018    13+  4 Seasons                 TV Shows   \n",
              "9665        NaT          2008      R     90 min                   Action   \n",
              "9666        NaT          2021  TV-MA   1 Season            Drama, Sports   \n",
              "9667        NaT          2010      R    103 min  Action, Drama, Suspense   \n",
              "\n",
              "                                            description  \n",
              "0     A small fishing village must procure a local d...  \n",
              "1     A Metro Family decides to fight a Cyber Crimin...  \n",
              "2     After a man discovers his wife is cheating on ...  \n",
              "3     Pink breaks the mold once again, bringing her ...  \n",
              "4     Teenage Matt Banting wants to work with a famo...  \n",
              "...                                                 ...  \n",
              "9663  New York City street principles get an East Si...  \n",
              "9664  This is Earth, 2100AD - and these are the adve...  \n",
              "9665  In war-torn Eastern Europe, a world-weary grou...  \n",
              "9666  The series tells the story of Diego Maradona, ...  \n",
              "9667  Harry Brown, starring two-time Academy Award w...  \n",
              "\n",
              "[9668 rows x 12 columns]"
            ]
          },
          "execution_count": 11,
          "metadata": {},
          "output_type": "execute_result"
        }
      ],
      "source": [
        "df"
      ]
    },
    {
      "cell_type": "code",
      "execution_count": null,
      "id": "6ed68e27",
      "metadata": {
        "id": "6ed68e27",
        "outputId": "dd7c0f2e-811b-4e38-a591-3630a47e4b69"
      },
      "outputs": [
        {
          "name": "stdout",
          "output_type": "stream",
          "text": [
            "<class 'pandas.core.frame.DataFrame'>\n",
            "RangeIndex: 9668 entries, 0 to 9667\n",
            "Data columns (total 12 columns):\n",
            " #   Column        Non-Null Count  Dtype         \n",
            "---  ------        --------------  -----         \n",
            " 0   show_id       9668 non-null   object        \n",
            " 1   type          9668 non-null   object        \n",
            " 2   title         9668 non-null   object        \n",
            " 3   director      7586 non-null   object        \n",
            " 4   cast          8435 non-null   object        \n",
            " 5   country       672 non-null    object        \n",
            " 6   date_added    155 non-null    datetime64[ns]\n",
            " 7   release_year  9668 non-null   int64         \n",
            " 8   rating        9331 non-null   object        \n",
            " 9   duration      9668 non-null   object        \n",
            " 10  listed_in     9668 non-null   object        \n",
            " 11  description   9668 non-null   object        \n",
            "dtypes: datetime64[ns](1), int64(1), object(10)\n",
            "memory usage: 906.5+ KB\n"
          ]
        }
      ],
      "source": [
        "df.info()"
      ]
    },
    {
      "cell_type": "markdown",
      "id": "63cb589e",
      "metadata": {
        "id": "63cb589e"
      },
      "source": [
        "check the null vakues"
      ]
    },
    {
      "cell_type": "code",
      "execution_count": null,
      "id": "80450df5",
      "metadata": {
        "id": "80450df5",
        "outputId": "41162b5e-0d70-47f0-df92-2de91ab6b165"
      },
      "outputs": [
        {
          "data": {
            "text/plain": [
              "show_id            0\n",
              "type               0\n",
              "title              0\n",
              "director        2082\n",
              "cast            1233\n",
              "country         8996\n",
              "date_added      9513\n",
              "release_year       0\n",
              "rating           337\n",
              "duration           0\n",
              "listed_in          0\n",
              "description        0\n",
              "dtype: int64"
            ]
          },
          "execution_count": 16,
          "metadata": {},
          "output_type": "execute_result"
        }
      ],
      "source": [
        "df.isnull().sum()"
      ]
    },
    {
      "cell_type": "markdown",
      "id": "439c7caf",
      "metadata": {
        "id": "439c7caf"
      },
      "source": [
        "handel the missing values"
      ]
    },
    {
      "cell_type": "code",
      "execution_count": null,
      "id": "aba6cee7",
      "metadata": {
        "id": "aba6cee7"
      },
      "outputs": [],
      "source": [
        "df.fillna({'rating':'notavailable','cast':'notavailable','country':'notavailable','director':'notavailable'},inplace=True)"
      ]
    },
    {
      "cell_type": "code",
      "execution_count": null,
      "id": "5bbb4790",
      "metadata": {
        "id": "5bbb4790",
        "outputId": "eee05a60-d788-4946-df39-7df4bd5788a1"
      },
      "outputs": [
        {
          "data": {
            "text/plain": [
              "show_id            0\n",
              "type               0\n",
              "title              0\n",
              "director           0\n",
              "cast               0\n",
              "country            0\n",
              "date_added      9513\n",
              "release_year       0\n",
              "rating             0\n",
              "duration           0\n",
              "listed_in          0\n",
              "description        0\n",
              "dtype: int64"
            ]
          },
          "execution_count": 22,
          "metadata": {},
          "output_type": "execute_result"
        }
      ],
      "source": [
        "df.isna().sum()"
      ]
    },
    {
      "cell_type": "code",
      "execution_count": null,
      "id": "ff319e26",
      "metadata": {
        "id": "ff319e26",
        "outputId": "8f92ec3c-95d7-4600-dccc-9d4ac472a659"
      },
      "outputs": [
        {
          "data": {
            "text/html": [
              "<div>\n",
              "<style scoped>\n",
              "    .dataframe tbody tr th:only-of-type {\n",
              "        vertical-align: middle;\n",
              "    }\n",
              "\n",
              "    .dataframe tbody tr th {\n",
              "        vertical-align: top;\n",
              "    }\n",
              "\n",
              "    .dataframe thead th {\n",
              "        text-align: right;\n",
              "    }\n",
              "</style>\n",
              "<table border=\"1\" class=\"dataframe\">\n",
              "  <thead>\n",
              "    <tr style=\"text-align: right;\">\n",
              "      <th></th>\n",
              "      <th>show_id</th>\n",
              "      <th>type</th>\n",
              "      <th>title</th>\n",
              "      <th>director</th>\n",
              "      <th>cast</th>\n",
              "      <th>country</th>\n",
              "      <th>date_added</th>\n",
              "      <th>release_year</th>\n",
              "      <th>rating</th>\n",
              "      <th>duration</th>\n",
              "      <th>listed_in</th>\n",
              "      <th>description</th>\n",
              "    </tr>\n",
              "  </thead>\n",
              "  <tbody>\n",
              "    <tr>\n",
              "      <th>16</th>\n",
              "      <td>s17</td>\n",
              "      <td>Movie</td>\n",
              "      <td>Zoombies</td>\n",
              "      <td>Glenn Miller</td>\n",
              "      <td>Marcus Anderson, Kaiwi Lyman, Andrew Asper</td>\n",
              "      <td>notavailable</td>\n",
              "      <td>NaT</td>\n",
              "      <td>2016</td>\n",
              "      <td>13+</td>\n",
              "      <td>87 min</td>\n",
              "      <td>Horror, Science Fiction</td>\n",
              "      <td>When a strange virus quickly spreads through a...</td>\n",
              "    </tr>\n",
              "    <tr>\n",
              "      <th>17</th>\n",
              "      <td>s18</td>\n",
              "      <td>TV Show</td>\n",
              "      <td>Zoo Babies</td>\n",
              "      <td>notavailable</td>\n",
              "      <td>Narrator - Gillian Barlett</td>\n",
              "      <td>notavailable</td>\n",
              "      <td>NaT</td>\n",
              "      <td>2008</td>\n",
              "      <td>ALL</td>\n",
              "      <td>1 Season</td>\n",
              "      <td>Kids, Special Interest</td>\n",
              "      <td>A heart warming and inspiring series that welc...</td>\n",
              "    </tr>\n",
              "    <tr>\n",
              "      <th>18</th>\n",
              "      <td>s19</td>\n",
              "      <td>TV Show</td>\n",
              "      <td>Zoë Coombs Marr: Bossy Bottom</td>\n",
              "      <td>notavailable</td>\n",
              "      <td>Zoë Coombs Marr</td>\n",
              "      <td>notavailable</td>\n",
              "      <td>NaT</td>\n",
              "      <td>2020</td>\n",
              "      <td>18+</td>\n",
              "      <td>1 Season</td>\n",
              "      <td>Comedy, Talk Show and Variety</td>\n",
              "      <td>Zoë Coombs Marr has been on hiatus. Sort of. F...</td>\n",
              "    </tr>\n",
              "    <tr>\n",
              "      <th>19</th>\n",
              "      <td>s20</td>\n",
              "      <td>Movie</td>\n",
              "      <td>Zoe</td>\n",
              "      <td>Drake Doremus</td>\n",
              "      <td>Ewan McGregor, Léa Seydoux, Theo James, Mirand...</td>\n",
              "      <td>notavailable</td>\n",
              "      <td>NaT</td>\n",
              "      <td>2018</td>\n",
              "      <td>R</td>\n",
              "      <td>104 min</td>\n",
              "      <td>Science Fiction</td>\n",
              "      <td>ZOE tells a tale of forbidden love between an ...</td>\n",
              "    </tr>\n",
              "    <tr>\n",
              "      <th>20</th>\n",
              "      <td>s21</td>\n",
              "      <td>TV Show</td>\n",
              "      <td>Zoboomafoo</td>\n",
              "      <td>notavailable</td>\n",
              "      <td>notavailable</td>\n",
              "      <td>notavailable</td>\n",
              "      <td>NaT</td>\n",
              "      <td>2001</td>\n",
              "      <td>TV-Y</td>\n",
              "      <td>1 Season</td>\n",
              "      <td>Kids</td>\n",
              "      <td>Chris and Martin Kratt bring their enthusiasm ...</td>\n",
              "    </tr>\n",
              "    <tr>\n",
              "      <th>...</th>\n",
              "      <td>...</td>\n",
              "      <td>...</td>\n",
              "      <td>...</td>\n",
              "      <td>...</td>\n",
              "      <td>...</td>\n",
              "      <td>...</td>\n",
              "      <td>...</td>\n",
              "      <td>...</td>\n",
              "      <td>...</td>\n",
              "      <td>...</td>\n",
              "      <td>...</td>\n",
              "      <td>...</td>\n",
              "    </tr>\n",
              "    <tr>\n",
              "      <th>9663</th>\n",
              "      <td>s9664</td>\n",
              "      <td>Movie</td>\n",
              "      <td>Pride Of The Bowery</td>\n",
              "      <td>Joseph H. Lewis</td>\n",
              "      <td>Leo Gorcey, Bobby Jordan</td>\n",
              "      <td>notavailable</td>\n",
              "      <td>NaT</td>\n",
              "      <td>1940</td>\n",
              "      <td>7+</td>\n",
              "      <td>60 min</td>\n",
              "      <td>Comedy</td>\n",
              "      <td>New York City street principles get an East Si...</td>\n",
              "    </tr>\n",
              "    <tr>\n",
              "      <th>9664</th>\n",
              "      <td>s9665</td>\n",
              "      <td>TV Show</td>\n",
              "      <td>Planet Patrol</td>\n",
              "      <td>notavailable</td>\n",
              "      <td>DICK VOSBURGH, RONNIE STEVENS, LIBBY MORRIS, M...</td>\n",
              "      <td>notavailable</td>\n",
              "      <td>NaT</td>\n",
              "      <td>2018</td>\n",
              "      <td>13+</td>\n",
              "      <td>4 Seasons</td>\n",
              "      <td>TV Shows</td>\n",
              "      <td>This is Earth, 2100AD - and these are the adve...</td>\n",
              "    </tr>\n",
              "    <tr>\n",
              "      <th>9665</th>\n",
              "      <td>s9666</td>\n",
              "      <td>Movie</td>\n",
              "      <td>Outpost</td>\n",
              "      <td>Steve Barker</td>\n",
              "      <td>Ray Stevenson, Julian Wadham, Richard Brake, M...</td>\n",
              "      <td>notavailable</td>\n",
              "      <td>NaT</td>\n",
              "      <td>2008</td>\n",
              "      <td>R</td>\n",
              "      <td>90 min</td>\n",
              "      <td>Action</td>\n",
              "      <td>In war-torn Eastern Europe, a world-weary grou...</td>\n",
              "    </tr>\n",
              "    <tr>\n",
              "      <th>9666</th>\n",
              "      <td>s9667</td>\n",
              "      <td>TV Show</td>\n",
              "      <td>Maradona: Blessed Dream</td>\n",
              "      <td>notavailable</td>\n",
              "      <td>Esteban Recagno, Ezequiel Stremiz, Luciano Vit...</td>\n",
              "      <td>notavailable</td>\n",
              "      <td>NaT</td>\n",
              "      <td>2021</td>\n",
              "      <td>TV-MA</td>\n",
              "      <td>1 Season</td>\n",
              "      <td>Drama, Sports</td>\n",
              "      <td>The series tells the story of Diego Maradona, ...</td>\n",
              "    </tr>\n",
              "    <tr>\n",
              "      <th>9667</th>\n",
              "      <td>s9668</td>\n",
              "      <td>Movie</td>\n",
              "      <td>Harry Brown</td>\n",
              "      <td>Daniel Barber</td>\n",
              "      <td>Michael Caine, Emily Mortimer, Joseph Gilgun, ...</td>\n",
              "      <td>notavailable</td>\n",
              "      <td>NaT</td>\n",
              "      <td>2010</td>\n",
              "      <td>R</td>\n",
              "      <td>103 min</td>\n",
              "      <td>Action, Drama, Suspense</td>\n",
              "      <td>Harry Brown, starring two-time Academy Award w...</td>\n",
              "    </tr>\n",
              "  </tbody>\n",
              "</table>\n",
              "<p>9513 rows × 12 columns</p>\n",
              "</div>"
            ],
            "text/plain": [
              "     show_id     type                          title         director  \\\n",
              "16       s17    Movie                       Zoombies     Glenn Miller   \n",
              "17       s18  TV Show                     Zoo Babies     notavailable   \n",
              "18       s19  TV Show  Zoë Coombs Marr: Bossy Bottom     notavailable   \n",
              "19       s20    Movie                            Zoe    Drake Doremus   \n",
              "20       s21  TV Show                     Zoboomafoo     notavailable   \n",
              "...      ...      ...                            ...              ...   \n",
              "9663   s9664    Movie            Pride Of The Bowery  Joseph H. Lewis   \n",
              "9664   s9665  TV Show                  Planet Patrol     notavailable   \n",
              "9665   s9666    Movie                        Outpost     Steve Barker   \n",
              "9666   s9667  TV Show        Maradona: Blessed Dream     notavailable   \n",
              "9667   s9668    Movie                    Harry Brown    Daniel Barber   \n",
              "\n",
              "                                                   cast       country  \\\n",
              "16           Marcus Anderson, Kaiwi Lyman, Andrew Asper  notavailable   \n",
              "17                           Narrator - Gillian Barlett  notavailable   \n",
              "18                                      Zoë Coombs Marr  notavailable   \n",
              "19    Ewan McGregor, Léa Seydoux, Theo James, Mirand...  notavailable   \n",
              "20                                         notavailable  notavailable   \n",
              "...                                                 ...           ...   \n",
              "9663                           Leo Gorcey, Bobby Jordan  notavailable   \n",
              "9664  DICK VOSBURGH, RONNIE STEVENS, LIBBY MORRIS, M...  notavailable   \n",
              "9665  Ray Stevenson, Julian Wadham, Richard Brake, M...  notavailable   \n",
              "9666  Esteban Recagno, Ezequiel Stremiz, Luciano Vit...  notavailable   \n",
              "9667  Michael Caine, Emily Mortimer, Joseph Gilgun, ...  notavailable   \n",
              "\n",
              "     date_added  release_year rating   duration  \\\n",
              "16          NaT          2016    13+     87 min   \n",
              "17          NaT          2008    ALL   1 Season   \n",
              "18          NaT          2020    18+   1 Season   \n",
              "19          NaT          2018      R    104 min   \n",
              "20          NaT          2001   TV-Y   1 Season   \n",
              "...         ...           ...    ...        ...   \n",
              "9663        NaT          1940     7+     60 min   \n",
              "9664        NaT          2018    13+  4 Seasons   \n",
              "9665        NaT          2008      R     90 min   \n",
              "9666        NaT          2021  TV-MA   1 Season   \n",
              "9667        NaT          2010      R    103 min   \n",
              "\n",
              "                          listed_in  \\\n",
              "16          Horror, Science Fiction   \n",
              "17           Kids, Special Interest   \n",
              "18    Comedy, Talk Show and Variety   \n",
              "19                  Science Fiction   \n",
              "20                             Kids   \n",
              "...                             ...   \n",
              "9663                         Comedy   \n",
              "9664                       TV Shows   \n",
              "9665                         Action   \n",
              "9666                  Drama, Sports   \n",
              "9667        Action, Drama, Suspense   \n",
              "\n",
              "                                            description  \n",
              "16    When a strange virus quickly spreads through a...  \n",
              "17    A heart warming and inspiring series that welc...  \n",
              "18    Zoë Coombs Marr has been on hiatus. Sort of. F...  \n",
              "19    ZOE tells a tale of forbidden love between an ...  \n",
              "20    Chris and Martin Kratt bring their enthusiasm ...  \n",
              "...                                                 ...  \n",
              "9663  New York City street principles get an East Si...  \n",
              "9664  This is Earth, 2100AD - and these are the adve...  \n",
              "9665  In war-torn Eastern Europe, a world-weary grou...  \n",
              "9666  The series tells the story of Diego Maradona, ...  \n",
              "9667  Harry Brown, starring two-time Academy Award w...  \n",
              "\n",
              "[9513 rows x 12 columns]"
            ]
          },
          "execution_count": 23,
          "metadata": {},
          "output_type": "execute_result"
        }
      ],
      "source": [
        "df[df.date_added.isnull()]"
      ]
    },
    {
      "cell_type": "code",
      "execution_count": null,
      "id": "b0efa84b",
      "metadata": {
        "id": "b0efa84b"
      },
      "outputs": [],
      "source": [
        "most_recent_data =df['date_added'].max()\n",
        "df.fillna({'date_added':most_recent_data},inplace=True)"
      ]
    },
    {
      "cell_type": "code",
      "execution_count": null,
      "id": "cb36c701",
      "metadata": {
        "id": "cb36c701",
        "outputId": "45871540-26e7-4245-ed00-502c020fbf9d"
      },
      "outputs": [
        {
          "data": {
            "text/html": [
              "<div>\n",
              "<style scoped>\n",
              "    .dataframe tbody tr th:only-of-type {\n",
              "        vertical-align: middle;\n",
              "    }\n",
              "\n",
              "    .dataframe tbody tr th {\n",
              "        vertical-align: top;\n",
              "    }\n",
              "\n",
              "    .dataframe thead th {\n",
              "        text-align: right;\n",
              "    }\n",
              "</style>\n",
              "<table border=\"1\" class=\"dataframe\">\n",
              "  <thead>\n",
              "    <tr style=\"text-align: right;\">\n",
              "      <th></th>\n",
              "      <th>show_id</th>\n",
              "      <th>type</th>\n",
              "      <th>title</th>\n",
              "      <th>director</th>\n",
              "      <th>cast</th>\n",
              "      <th>country</th>\n",
              "      <th>date_added</th>\n",
              "      <th>release_year</th>\n",
              "      <th>rating</th>\n",
              "      <th>duration</th>\n",
              "      <th>listed_in</th>\n",
              "      <th>description</th>\n",
              "    </tr>\n",
              "  </thead>\n",
              "  <tbody>\n",
              "    <tr>\n",
              "      <th>9666</th>\n",
              "      <td>s9667</td>\n",
              "      <td>TV Show</td>\n",
              "      <td>Maradona: Blessed Dream</td>\n",
              "      <td>notavailable</td>\n",
              "      <td>Esteban Recagno, Ezequiel Stremiz, Luciano Vit...</td>\n",
              "      <td>notavailable</td>\n",
              "      <td>2021-10-10</td>\n",
              "      <td>2021</td>\n",
              "      <td>TV-MA</td>\n",
              "      <td>1 Season</td>\n",
              "      <td>Drama, Sports</td>\n",
              "      <td>The series tells the story of Diego Maradona, ...</td>\n",
              "    </tr>\n",
              "  </tbody>\n",
              "</table>\n",
              "</div>"
            ],
            "text/plain": [
              "     show_id     type                    title      director  \\\n",
              "9666   s9667  TV Show  Maradona: Blessed Dream  notavailable   \n",
              "\n",
              "                                                   cast       country  \\\n",
              "9666  Esteban Recagno, Ezequiel Stremiz, Luciano Vit...  notavailable   \n",
              "\n",
              "     date_added  release_year rating  duration      listed_in  \\\n",
              "9666 2021-10-10          2021  TV-MA  1 Season  Drama, Sports   \n",
              "\n",
              "                                            description  \n",
              "9666  The series tells the story of Diego Maradona, ...  "
            ]
          },
          "execution_count": 25,
          "metadata": {},
          "output_type": "execute_result"
        }
      ],
      "source": [
        "df[df.show_id =='s9667']"
      ]
    },
    {
      "cell_type": "code",
      "execution_count": null,
      "id": "4ab77c7e",
      "metadata": {
        "id": "4ab77c7e"
      },
      "outputs": [],
      "source": [
        "#after"
      ]
    },
    {
      "cell_type": "code",
      "execution_count": null,
      "id": "0646458c",
      "metadata": {
        "id": "0646458c",
        "outputId": "2e87587a-399f-4223-93f2-54c784be81dc"
      },
      "outputs": [
        {
          "data": {
            "text/plain": [
              "show_id         0\n",
              "type            0\n",
              "title           0\n",
              "director        0\n",
              "cast            0\n",
              "country         0\n",
              "date_added      0\n",
              "release_year    0\n",
              "rating          0\n",
              "duration        0\n",
              "listed_in       0\n",
              "description     0\n",
              "dtype: int64"
            ]
          },
          "execution_count": 26,
          "metadata": {},
          "output_type": "execute_result"
        }
      ],
      "source": [
        "df.isna().sum()"
      ]
    },
    {
      "cell_type": "code",
      "execution_count": null,
      "id": "8ade894c",
      "metadata": {
        "id": "8ade894c"
      },
      "outputs": [],
      "source": []
    },
    {
      "cell_type": "markdown",
      "id": "0b92245c",
      "metadata": {
        "id": "0b92245c"
      },
      "source": [
        "# check if the are any duplicate values"
      ]
    },
    {
      "cell_type": "code",
      "execution_count": null,
      "id": "83c8d673",
      "metadata": {
        "id": "83c8d673",
        "outputId": "15eb55ca-6dc4-4f1c-a00e-579990d05296"
      },
      "outputs": [
        {
          "data": {
            "text/plain": [
              "0"
            ]
          },
          "execution_count": 11,
          "metadata": {},
          "output_type": "execute_result"
        }
      ],
      "source": [
        "df.duplicated().sum()"
      ]
    },
    {
      "cell_type": "code",
      "execution_count": null,
      "id": "7ea20ac1",
      "metadata": {
        "id": "7ea20ac1",
        "outputId": "4d7f1695-a8ab-40ce-90dc-a3ddc42818ae"
      },
      "outputs": [
        {
          "data": {
            "text/html": [
              "<div>\n",
              "<style scoped>\n",
              "    .dataframe tbody tr th:only-of-type {\n",
              "        vertical-align: middle;\n",
              "    }\n",
              "\n",
              "    .dataframe tbody tr th {\n",
              "        vertical-align: top;\n",
              "    }\n",
              "\n",
              "    .dataframe thead th {\n",
              "        text-align: right;\n",
              "    }\n",
              "</style>\n",
              "<table border=\"1\" class=\"dataframe\">\n",
              "  <thead>\n",
              "    <tr style=\"text-align: right;\">\n",
              "      <th></th>\n",
              "      <th>show_id</th>\n",
              "      <th>type</th>\n",
              "      <th>title</th>\n",
              "      <th>director</th>\n",
              "      <th>cast</th>\n",
              "      <th>country</th>\n",
              "      <th>date_added</th>\n",
              "      <th>release_year</th>\n",
              "      <th>rating</th>\n",
              "      <th>duration</th>\n",
              "      <th>listed_in</th>\n",
              "      <th>description</th>\n",
              "    </tr>\n",
              "  </thead>\n",
              "  <tbody>\n",
              "  </tbody>\n",
              "</table>\n",
              "</div>"
            ],
            "text/plain": [
              "Empty DataFrame\n",
              "Columns: [show_id, type, title, director, cast, country, date_added, release_year, rating, duration, listed_in, description]\n",
              "Index: []"
            ]
          },
          "execution_count": 12,
          "metadata": {},
          "output_type": "execute_result"
        }
      ],
      "source": [
        "df[df.duplicated()]"
      ]
    },
    {
      "cell_type": "code",
      "execution_count": null,
      "id": "da678120",
      "metadata": {
        "id": "da678120"
      },
      "outputs": [],
      "source": []
    },
    {
      "cell_type": "markdown",
      "id": "3569b178",
      "metadata": {
        "id": "3569b178"
      },
      "source": [
        "# visulization"
      ]
    },
    {
      "cell_type": "code",
      "execution_count": null,
      "id": "66af84fd",
      "metadata": {
        "id": "66af84fd",
        "outputId": "ebe97ce0-3c54-4683-d998-6aa6b1f8eddb"
      },
      "outputs": [
        {
          "data": {
            "text/plain": [
              "Movie      7814\n",
              "TV Show    1854\n",
              "Name: type, dtype: int64"
            ]
          },
          "execution_count": 37,
          "metadata": {},
          "output_type": "execute_result"
        }
      ],
      "source": [
        "df.type.value_counts()"
      ]
    },
    {
      "cell_type": "code",
      "execution_count": null,
      "id": "81d390e5",
      "metadata": {
        "id": "81d390e5",
        "outputId": "928ca06f-7586-4b55-ac86-3d9fea0104fb"
      },
      "outputs": [
        {
          "data": {
            "text/plain": [
              "<AxesSubplot:xlabel='type', ylabel='count'>"
            ]
          },
          "execution_count": 38,
          "metadata": {},
          "output_type": "execute_result"
        },
        {
          "data": {
            "image/png": "[encoded data removed]",
            "text/plain": [
              "<Figure size 640x480 with 1 Axes>"
            ]
          },
          "metadata": {},
          "output_type": "display_data"
        }
      ],
      "source": [
        "sns.countplot(x='type',data=df)"
      ]
    },
    {
      "cell_type": "code",
      "execution_count": null,
      "id": "ebc22c78",
      "metadata": {
        "id": "ebc22c78",
        "outputId": "675be995-e3ae-4e3e-ec4a-310c0c158572"
      },
      "outputs": [
        {
          "data": {
            "text/plain": [
              "notavailable                     8996\n",
              "United States                     253\n",
              "India                             229\n",
              "United Kingdom                     28\n",
              "Canada                             16\n",
              "United Kingdom, United States      12\n",
              "Spain                               8\n",
              "Italy                               8\n",
              "Canada, United States               7\n",
              "United States, United Kingdom       6\n",
              "Name: country, dtype: int64"
            ]
          },
          "execution_count": 39,
          "metadata": {},
          "output_type": "execute_result"
        }
      ],
      "source": [
        "df['country'].value_counts().head(10)"
      ]
    },
    {
      "cell_type": "code",
      "execution_count": null,
      "id": "dc1bbff8",
      "metadata": {
        "id": "dc1bbff8",
        "outputId": "2846fa51-e045-48cf-f36c-af35a5bcf37f"
      },
      "outputs": [
        {
          "data": {
            "text/plain": [
              "<AxesSubplot:xlabel='count', ylabel='country'>"
            ]
          },
          "execution_count": 41,
          "metadata": {},
          "output_type": "execute_result"
        },
        {
          "data": {
            "image/png": "[encoded data removed]",
            "text/plain": [
              "<Figure size 1200x600 with 1 Axes>"
            ]
          },
          "metadata": {},
          "output_type": "display_data"
        }
      ],
      "source": [
        "plt.figure(figsize =(12,6))\n",
        "sns.countplot(y='country',order = df['country'].value_counts().index[0:5],data=df)"
      ]
    },
    {
      "cell_type": "code",
      "execution_count": null,
      "id": "47fa9c5e",
      "metadata": {
        "id": "47fa9c5e",
        "outputId": "878128d3-d17b-47ee-e3da-b73e9fe218f7"
      },
      "outputs": [
        {
          "data": {
            "text/plain": [
              "13+             2117\n",
              "16+             1547\n",
              "ALL             1268\n",
              "18+             1243\n",
              "R               1010\n",
              "PG-13            393\n",
              "7+               385\n",
              "notavailable     337\n",
              "PG               253\n",
              "NR               223\n",
              "TV-14            208\n",
              "TV-PG            169\n",
              "TV-NR            105\n",
              "G                 93\n",
              "TV-G              81\n",
              "TV-MA             77\n",
              "TV-Y              74\n",
              "TV-Y7             39\n",
              "UNRATED           33\n",
              "NC-17              3\n",
              "AGES_18_           3\n",
              "NOT_RATE           3\n",
              "AGES_16_           2\n",
              "16                 1\n",
              "ALL_AGES           1\n",
              "Name: rating, dtype: int64"
            ]
          },
          "execution_count": 42,
          "metadata": {},
          "output_type": "execute_result"
        }
      ],
      "source": [
        "df.rating.value_counts()"
      ]
    },
    {
      "cell_type": "code",
      "execution_count": null,
      "id": "d6827f6d",
      "metadata": {
        "id": "d6827f6d",
        "outputId": "da70be79-fe12-489f-dc1d-6b16705f68a6"
      },
      "outputs": [
        {
          "data": {
            "text/plain": [
              "<AxesSubplot:xlabel='rating', ylabel='count'>"
            ]
          },
          "execution_count": 44,
          "metadata": {},
          "output_type": "execute_result"
        },
        {
          "data": {
            "image/png": "[encoded data removed]",
            "text/plain": [
              "<Figure size 900x600 with 1 Axes>"
            ]
          },
          "metadata": {},
          "output_type": "display_data"
        }
      ],
      "source": [
        "plt.figure(figsize =(9,6))\n",
        "sns.countplot(x=\"rating\",order=df['rating'].value_counts().index[0:10],data=df)"
      ]
    },
    {
      "cell_type": "markdown",
      "id": "26c35aad",
      "metadata": {
        "id": "26c35aad"
      },
      "source": [
        "# most of show has 13+ and 16+ rating"
      ]
    },
    {
      "cell_type": "code",
      "execution_count": null,
      "id": "e4f886c1",
      "metadata": {
        "id": "e4f886c1"
      },
      "outputs": [],
      "source": []
    },
    {
      "cell_type": "code",
      "execution_count": null,
      "id": "97b26c7e",
      "metadata": {
        "id": "97b26c7e"
      },
      "outputs": [],
      "source": []
    },
    {
      "cell_type": "code",
      "execution_count": null,
      "id": "1f962f4b",
      "metadata": {
        "id": "1f962f4b",
        "outputId": "ab3b1a9e-f58a-4d30-c76f-b7b104919c0e"
      },
      "outputs": [
        {
          "name": "stderr",
          "output_type": "stream",
          "text": [
            "C:\\ProgramData\\Anaconda3\\lib\\site-packages\\seaborn\\_decorators.py:36: FutureWarning: Pass the following variable as a keyword arg: x. From version 0.12, the only valid positional argument will be `data`, and passing other arguments without an explicit keyword will result in an error or misinterpretation.\n",
            "  warnings.warn(\n"
          ]
        },
        {
          "data": {
            "text/plain": [
              "<AxesSubplot:xlabel='rating', ylabel='count'>"
            ]
          },
          "execution_count": 48,
          "metadata": {},
          "output_type": "execute_result"
        },
        {
          "data": {
            "image/png": "[encoded data removed]",
            "text/plain": [
              "<Figure size 640x480 with 1 Axes>"
            ]
          },
          "metadata": {},
          "output_type": "display_data"
        }
      ],
      "source": [
        "sns.countplot(df['rating'])"
      ]
    },
    {
      "cell_type": "code",
      "execution_count": null,
      "id": "070c6d23",
      "metadata": {
        "scrolled": true,
        "id": "070c6d23",
        "outputId": "3a7cc41e-9138-4d7c-bf25-ba050bfb7762"
      },
      "outputs": [
        {
          "data": {
            "text/plain": [
              "2021    1442\n",
              "2020     962\n",
              "2019     929\n",
              "2018     623\n",
              "2017     562\n",
              "2016     521\n",
              "2014     391\n",
              "2015     378\n",
              "2013     289\n",
              "2011     252\n",
              "2012     252\n",
              "2010     186\n",
              "2007     176\n",
              "2008     171\n",
              "2009     149\n",
              "2006     138\n",
              "2005     112\n",
              "2004     103\n",
              "2002      92\n",
              "2001      82\n",
              "Name: release_year, dtype: int64"
            ]
          },
          "execution_count": 49,
          "metadata": {},
          "output_type": "execute_result"
        }
      ],
      "source": [
        "df.release_year.value_counts()[:20]"
      ]
    },
    {
      "cell_type": "code",
      "execution_count": null,
      "id": "d12cb7bb",
      "metadata": {
        "id": "d12cb7bb",
        "outputId": "b62993c6-9953-4b57-959f-38058401d4d3"
      },
      "outputs": [
        {
          "data": {
            "text/plain": [
              "<AxesSubplot:xlabel='release_year', ylabel='count'>"
            ]
          },
          "execution_count": 50,
          "metadata": {},
          "output_type": "execute_result"
        },
        {
          "data": {
            "image/png": "[encoded data removed]",
            "text/plain": [
              "<Figure size 900x600 with 1 Axes>"
            ]
          },
          "metadata": {},
          "output_type": "display_data"
        }
      ],
      "source": [
        "plt.figure(figsize =(9,6))\n",
        "sns.countplot(x=\"release_year\",order=df['release_year'].value_counts().index[0:10],data=df)"
      ]
    },
    {
      "cell_type": "markdown",
      "id": "cc6fcd54",
      "metadata": {
        "id": "cc6fcd54"
      },
      "source": [
        "# prime has released more content in 2021"
      ]
    },
    {
      "cell_type": "code",
      "execution_count": null,
      "id": "bbba59c6",
      "metadata": {
        "id": "bbba59c6",
        "outputId": "ffce5319-ef1f-466c-fb99-a8ca9e7ce9a4"
      },
      "outputs": [
        {
          "data": {
            "text/plain": [
              "<AxesSubplot:xlabel='count', ylabel='listed_in'>"
            ]
          },
          "execution_count": 51,
          "metadata": {},
          "output_type": "execute_result"
        },
        {
          "data": {
            "image/png": "[encoded data removed]",
            "text/plain": [
              "<Figure size 1200x800 with 1 Axes>"
            ]
          },
          "metadata": {},
          "output_type": "display_data"
        }
      ],
      "source": [
        "plt.figure(figsize =(12,8))\n",
        "sns.countplot(y=\"listed_in\",order=df['listed_in'].value_counts().index[0:10],data=df)"
      ]
    },
    {
      "cell_type": "code",
      "execution_count": null,
      "id": "c5236158",
      "metadata": {
        "id": "c5236158"
      },
      "outputs": [],
      "source": []
    },
    {
      "cell_type": "code",
      "execution_count": null,
      "id": "c46a5c63",
      "metadata": {
        "id": "c46a5c63"
      },
      "outputs": [],
      "source": []
    },
    {
      "cell_type": "code",
      "execution_count": null,
      "id": "291155fb",
      "metadata": {
        "id": "291155fb"
      },
      "outputs": [],
      "source": []
    }
  ],
  "metadata": {
    "kernelspec": {
      "display_name": "Python 3 (ipykernel)",
      "language": "python",
      "name": "python3"
    },
    "language_info": {
      "codemirror_mode": {
        "name": "ipython",
        "version": 3
      },
      "file_extension": ".py",
      "mimetype": "text/x-python",
      "name": "python",
      "nbconvert_exporter": "python",
      "pygments_lexer": "ipython3",
      "version": "3.9.13"
    },
    "colab": {
      "provenance": [],
      "include_colab_link": true
    }
  },
  "nbformat": 4,
  "nbformat_minor": 5
}