{
  "cells": [
    {
      "cell_type": "markdown",
      "metadata": {
        "id": "view-in-github",
        "colab_type": "text"
      },
      "source": [
        "<a href=\"https://colab.research.google.com/github/durgasrilakshmigithub/durga/blob/main/amazon_prime_analysis_.ipynb\" target=\"_parent\"><img src=\"https://colab.research.google.com/assets/colab-badge.svg\" alt=\"Open In Colab\"/></a>"
      ]
    },
    {
      "cell_type": "code",
      "execution_count": null,
      "id": "e30c803d",
      "metadata": {
        "id": "e30c803d"
      },
      "outputs": [],
      "source": [
        "import numpy as np\n",
        "import pandas as pd"
      ]
    },
    {
      "cell_type": "code",
      "execution_count": null,
      "id": "430e2f8c",
      "metadata": {
        "id": "430e2f8c"
      },
      "outputs": [],
      "source": [
        "df =pd.read_csv(r\"C:\\Users\\durga\\Downloads\\archive (1)\\amazon_prime_titles.csv\")"
      ]
    },
    {
      "cell_type": "code",
      "execution_count": null,
      "id": "dfbd01fd",
      "metadata": {
        "id": "dfbd01fd",
        "outputId": "5364fb93-a262-4eb4-c5a5-282c71abeff0"
      },
      "outputs": [
        {
          "data": {
            "text/html": [
              "<div>\n",
              "<style scoped>\n",
              "    .dataframe tbody tr th:only-of-type {\n",
              "        vertical-align: middle;\n",
              "    }\n",
              "\n",
              "    .dataframe tbody tr th {\n",
              "        vertical-align: top;\n",
              "    }\n",
              "\n",
              "    .dataframe thead th {\n",
              "        text-align: right;\n",
              "    }\n",
              "</style>\n",
              "<table border=\"1\" class=\"dataframe\">\n",
              "  <thead>\n",
              "    <tr style=\"text-align: right;\">\n",
              "      <th></th>\n",
              "      <th>show_id</th>\n",
              "      <th>type</th>\n",
              "      <th>title</th>\n",
              "      <th>director</th>\n",
              "      <th>cast</th>\n",
              "      <th>country</th>\n",
              "      <th>date_added</th>\n",
              "      <th>release_year</th>\n",
              "      <th>rating</th>\n",
              "      <th>duration</th>\n",
              "      <th>listed_in</th>\n",
              "      <th>description</th>\n",
              "    </tr>\n",
              "  </thead>\n",
              "  <tbody>\n",
              "    <tr>\n",
              "      <th>0</th>\n",
              "      <td>s1</td>\n",
              "      <td>Movie</td>\n",
              "      <td>The Grand Seduction</td>\n",
              "      <td>Don McKellar</td>\n",
              "      <td>Brendan Gleeson, Taylor Kitsch, Gordon Pinsent</td>\n",
              "      <td>Canada</td>\n",
              "      <td>March 30, 2021</td>\n",
              "      <td>2014</td>\n",
              "      <td>NaN</td>\n",
              "      <td>113 min</td>\n",
              "      <td>Comedy, Drama</td>\n",
              "      <td>A small fishing village must procure a local d...</td>\n",
              "    </tr>\n",
              "    <tr>\n",
              "      <th>1</th>\n",
              "      <td>s2</td>\n",
              "      <td>Movie</td>\n",
              "      <td>Take Care Good Night</td>\n",
              "      <td>Girish Joshi</td>\n",
              "      <td>Mahesh Manjrekar, Abhay Mahajan, Sachin Khedekar</td>\n",
              "      <td>India</td>\n",
              "      <td>March 30, 2021</td>\n",
              "      <td>2018</td>\n",
              "      <td>13+</td>\n",
              "      <td>110 min</td>\n",
              "      <td>Drama, International</td>\n",
              "      <td>A Metro Family decides to fight a Cyber Crimin...</td>\n",
              "    </tr>\n",
              "    <tr>\n",
              "      <th>2</th>\n",
              "      <td>s3</td>\n",
              "      <td>Movie</td>\n",
              "      <td>Secrets of Deception</td>\n",
              "      <td>Josh Webber</td>\n",
              "      <td>Tom Sizemore, Lorenzo Lamas, Robert LaSardo, R...</td>\n",
              "      <td>United States</td>\n",
              "      <td>March 30, 2021</td>\n",
              "      <td>2017</td>\n",
              "      <td>NaN</td>\n",
              "      <td>74 min</td>\n",
              "      <td>Action, Drama, Suspense</td>\n",
              "      <td>After a man discovers his wife is cheating on ...</td>\n",
              "    </tr>\n",
              "    <tr>\n",
              "      <th>3</th>\n",
              "      <td>s4</td>\n",
              "      <td>Movie</td>\n",
              "      <td>Pink: Staying True</td>\n",
              "      <td>Sonia Anderson</td>\n",
              "      <td>Interviews with: Pink, Adele, Beyoncé, Britney...</td>\n",
              "      <td>United States</td>\n",
              "      <td>March 30, 2021</td>\n",
              "      <td>2014</td>\n",
              "      <td>NaN</td>\n",
              "      <td>69 min</td>\n",
              "      <td>Documentary</td>\n",
              "      <td>Pink breaks the mold once again, bringing her ...</td>\n",
              "    </tr>\n",
              "    <tr>\n",
              "      <th>4</th>\n",
              "      <td>s5</td>\n",
              "      <td>Movie</td>\n",
              "      <td>Monster Maker</td>\n",
              "      <td>Giles Foster</td>\n",
              "      <td>Harry Dean Stanton, Kieran O'Brien, George Cos...</td>\n",
              "      <td>United Kingdom</td>\n",
              "      <td>March 30, 2021</td>\n",
              "      <td>1989</td>\n",
              "      <td>NaN</td>\n",
              "      <td>45 min</td>\n",
              "      <td>Drama, Fantasy</td>\n",
              "      <td>Teenage Matt Banting wants to work with a famo...</td>\n",
              "    </tr>\n",
              "    <tr>\n",
              "      <th>...</th>\n",
              "      <td>...</td>\n",
              "      <td>...</td>\n",
              "      <td>...</td>\n",
              "      <td>...</td>\n",
              "      <td>...</td>\n",
              "      <td>...</td>\n",
              "      <td>...</td>\n",
              "      <td>...</td>\n",
              "      <td>...</td>\n",
              "      <td>...</td>\n",
              "      <td>...</td>\n",
              "      <td>...</td>\n",
              "    </tr>\n",
              "    <tr>\n",
              "      <th>9663</th>\n",
              "      <td>s9664</td>\n",
              "      <td>Movie</td>\n",
              "      <td>Pride Of The Bowery</td>\n",
              "      <td>Joseph H. Lewis</td>\n",
              "      <td>Leo Gorcey, Bobby Jordan</td>\n",
              "      <td>NaN</td>\n",
              "      <td>NaN</td>\n",
              "      <td>1940</td>\n",
              "      <td>7+</td>\n",
              "      <td>60 min</td>\n",
              "      <td>Comedy</td>\n",
              "      <td>New York City street principles get an East Si...</td>\n",
              "    </tr>\n",
              "    <tr>\n",
              "      <th>9664</th>\n",
              "      <td>s9665</td>\n",
              "      <td>TV Show</td>\n",
              "      <td>Planet Patrol</td>\n",
              "      <td>NaN</td>\n",
              "      <td>DICK VOSBURGH, RONNIE STEVENS, LIBBY MORRIS, M...</td>\n",
              "      <td>NaN</td>\n",
              "      <td>NaN</td>\n",
              "      <td>2018</td>\n",
              "      <td>13+</td>\n",
              "      <td>4 Seasons</td>\n",
              "      <td>TV Shows</td>\n",
              "      <td>This is Earth, 2100AD - and these are the adve...</td>\n",
              "    </tr>\n",
              "    <tr>\n",
              "      <th>9665</th>\n",
              "      <td>s9666</td>\n",
              "      <td>Movie</td>\n",
              "      <td>Outpost</td>\n",
              "      <td>Steve Barker</td>\n",
              "      <td>Ray Stevenson, Julian Wadham, Richard Brake, M...</td>\n",
              "      <td>NaN</td>\n",
              "      <td>NaN</td>\n",
              "      <td>2008</td>\n",
              "      <td>R</td>\n",
              "      <td>90 min</td>\n",
              "      <td>Action</td>\n",
              "      <td>In war-torn Eastern Europe, a world-weary grou...</td>\n",
              "    </tr>\n",
              "    <tr>\n",
              "      <th>9666</th>\n",
              "      <td>s9667</td>\n",
              "      <td>TV Show</td>\n",
              "      <td>Maradona: Blessed Dream</td>\n",
              "      <td>NaN</td>\n",
              "      <td>Esteban Recagno, Ezequiel Stremiz, Luciano Vit...</td>\n",
              "      <td>NaN</td>\n",
              "      <td>NaN</td>\n",
              "      <td>2021</td>\n",
              "      <td>TV-MA</td>\n",
              "      <td>1 Season</td>\n",
              "      <td>Drama, Sports</td>\n",
              "      <td>The series tells the story of Diego Maradona, ...</td>\n",
              "    </tr>\n",
              "    <tr>\n",
              "      <th>9667</th>\n",
              "      <td>s9668</td>\n",
              "      <td>Movie</td>\n",
              "      <td>Harry Brown</td>\n",
              "      <td>Daniel Barber</td>\n",
              "      <td>Michael Caine, Emily Mortimer, Joseph Gilgun, ...</td>\n",
              "      <td>NaN</td>\n",
              "      <td>NaN</td>\n",
              "      <td>2010</td>\n",
              "      <td>R</td>\n",
              "      <td>103 min</td>\n",
              "      <td>Action, Drama, Suspense</td>\n",
              "      <td>Harry Brown, starring two-time Academy Award w...</td>\n",
              "    </tr>\n",
              "  </tbody>\n",
              "</table>\n",
              "<p>9668 rows × 12 columns</p>\n",
              "</div>"
            ],
            "text/plain": [
              "     show_id     type                    title         director  \\\n",
              "0         s1    Movie      The Grand Seduction     Don McKellar   \n",
              "1         s2    Movie     Take Care Good Night     Girish Joshi   \n",
              "2         s3    Movie     Secrets of Deception      Josh Webber   \n",
              "3         s4    Movie       Pink: Staying True   Sonia Anderson   \n",
              "4         s5    Movie            Monster Maker     Giles Foster   \n",
              "...      ...      ...                      ...              ...   \n",
              "9663   s9664    Movie      Pride Of The Bowery  Joseph H. Lewis   \n",
              "9664   s9665  TV Show            Planet Patrol              NaN   \n",
              "9665   s9666    Movie                  Outpost     Steve Barker   \n",
              "9666   s9667  TV Show  Maradona: Blessed Dream              NaN   \n",
              "9667   s9668    Movie              Harry Brown    Daniel Barber   \n",
              "\n",
              "                                                   cast         country  \\\n",
              "0        Brendan Gleeson, Taylor Kitsch, Gordon Pinsent          Canada   \n",
              "1      Mahesh Manjrekar, Abhay Mahajan, Sachin Khedekar           India   \n",
              "2     Tom Sizemore, Lorenzo Lamas, Robert LaSardo, R...   United States   \n",
              "3     Interviews with: Pink, Adele, Beyoncé, Britney...   United States   \n",
              "4     Harry Dean Stanton, Kieran O'Brien, George Cos...  United Kingdom   \n",
              "...                                                 ...             ...   \n",
              "9663                           Leo Gorcey, Bobby Jordan             NaN   \n",
              "9664  DICK VOSBURGH, RONNIE STEVENS, LIBBY MORRIS, M...             NaN   \n",
              "9665  Ray Stevenson, Julian Wadham, Richard Brake, M...             NaN   \n",
              "9666  Esteban Recagno, Ezequiel Stremiz, Luciano Vit...             NaN   \n",
              "9667  Michael Caine, Emily Mortimer, Joseph Gilgun, ...             NaN   \n",
              "\n",
              "          date_added  release_year rating   duration                listed_in  \\\n",
              "0     March 30, 2021          2014    NaN    113 min            Comedy, Drama   \n",
              "1     March 30, 2021          2018    13+    110 min     Drama, International   \n",
              "2     March 30, 2021          2017    NaN     74 min  Action, Drama, Suspense   \n",
              "3     March 30, 2021          2014    NaN     69 min              Documentary   \n",
              "4     March 30, 2021          1989    NaN     45 min           Drama, Fantasy   \n",
              "...              ...           ...    ...        ...                      ...   \n",
              "9663             NaN          1940     7+     60 min                   Comedy   \n",
              "9664             NaN          2018    13+  4 Seasons                 TV Shows   \n",
              "9665             NaN          2008      R     90 min                   Action   \n",
              "9666             NaN          2021  TV-MA   1 Season            Drama, Sports   \n",
              "9667             NaN          2010      R    103 min  Action, Drama, Suspense   \n",
              "\n",
              "                                            description  \n",
              "0     A small fishing village must procure a local d...  \n",
              "1     A Metro Family decides to fight a Cyber Crimin...  \n",
              "2     After a man discovers his wife is cheating on ...  \n",
              "3     Pink breaks the mold once again, bringing her ...  \n",
              "4     Teenage Matt Banting wants to work with a famo...  \n",
              "...                                                 ...  \n",
              "9663  New York City street principles get an East Si...  \n",
              "9664  This is Earth, 2100AD - and these are the adve...  \n",
              "9665  In war-torn Eastern Europe, a world-weary grou...  \n",
              "9666  The series tells the story of Diego Maradona, ...  \n",
              "9667  Harry Brown, starring two-time Academy Award w...  \n",
              "\n",
              "[9668 rows x 12 columns]"
            ]
          },
          "execution_count": 4,
          "metadata": {},
          "output_type": "execute_result"
        }
      ],
      "source": [
        "df"
      ]
    },
    {
      "cell_type": "code",
      "execution_count": null,
      "id": "6253aa4a",
      "metadata": {
        "id": "6253aa4a",
        "outputId": "e9a62228-988f-4174-bd0e-9a301579ebdf"
      },
      "outputs": [
        {
          "name": "stdout",
          "output_type": "stream",
          "text": [
            "<class 'pandas.core.frame.DataFrame'>\n",
            "RangeIndex: 9668 entries, 0 to 9667\n",
            "Data columns (total 12 columns):\n",
            " #   Column        Non-Null Count  Dtype \n",
            "---  ------        --------------  ----- \n",
            " 0   show_id       9668 non-null   object\n",
            " 1   type          9668 non-null   object\n",
            " 2   title         9668 non-null   object\n",
            " 3   director      7586 non-null   object\n",
            " 4   cast          8435 non-null   object\n",
            " 5   country       672 non-null    object\n",
            " 6   date_added    155 non-null    object\n",
            " 7   release_year  9668 non-null   int64 \n",
            " 8   rating        9331 non-null   object\n",
            " 9   duration      9668 non-null   object\n",
            " 10  listed_in     9668 non-null   object\n",
            " 11  description   9668 non-null   object\n",
            "dtypes: int64(1), object(11)\n",
            "memory usage: 906.5+ KB\n"
          ]
        }
      ],
      "source": [
        "df.info()"
      ]
    },
    {
      "cell_type": "code",
      "execution_count": null,
      "id": "770bdc0e",
      "metadata": {
        "id": "770bdc0e",
        "outputId": "b3cd03d2-cbf0-4d27-d941-4bc530bac2a8"
      },
      "outputs": [
        {
          "data": {
            "text/html": [
              "<div>\n",
              "<style scoped>\n",
              "    .dataframe tbody tr th:only-of-type {\n",
              "        vertical-align: middle;\n",
              "    }\n",
              "\n",
              "    .dataframe tbody tr th {\n",
              "        vertical-align: top;\n",
              "    }\n",
              "\n",
              "    .dataframe thead th {\n",
              "        text-align: right;\n",
              "    }\n",
              "</style>\n",
              "<table border=\"1\" class=\"dataframe\">\n",
              "  <thead>\n",
              "    <tr style=\"text-align: right;\">\n",
              "      <th></th>\n",
              "      <th>show_id</th>\n",
              "      <th>type</th>\n",
              "      <th>title</th>\n",
              "      <th>director</th>\n",
              "      <th>cast</th>\n",
              "      <th>country</th>\n",
              "      <th>date_added</th>\n",
              "      <th>release_year</th>\n",
              "      <th>rating</th>\n",
              "      <th>duration</th>\n",
              "      <th>listed_in</th>\n",
              "      <th>description</th>\n",
              "    </tr>\n",
              "  </thead>\n",
              "  <tbody>\n",
              "    <tr>\n",
              "      <th>0</th>\n",
              "      <td>s1</td>\n",
              "      <td>Movie</td>\n",
              "      <td>The Grand Seduction</td>\n",
              "      <td>Don McKellar</td>\n",
              "      <td>Brendan Gleeson, Taylor Kitsch, Gordon Pinsent</td>\n",
              "      <td>Canada</td>\n",
              "      <td>March 30, 2021</td>\n",
              "      <td>2014</td>\n",
              "      <td>NaN</td>\n",
              "      <td>113 min</td>\n",
              "      <td>Comedy, Drama</td>\n",
              "      <td>A small fishing village must procure a local d...</td>\n",
              "    </tr>\n",
              "    <tr>\n",
              "      <th>1</th>\n",
              "      <td>s2</td>\n",
              "      <td>Movie</td>\n",
              "      <td>Take Care Good Night</td>\n",
              "      <td>Girish Joshi</td>\n",
              "      <td>Mahesh Manjrekar, Abhay Mahajan, Sachin Khedekar</td>\n",
              "      <td>India</td>\n",
              "      <td>March 30, 2021</td>\n",
              "      <td>2018</td>\n",
              "      <td>13+</td>\n",
              "      <td>110 min</td>\n",
              "      <td>Drama, International</td>\n",
              "      <td>A Metro Family decides to fight a Cyber Crimin...</td>\n",
              "    </tr>\n",
              "    <tr>\n",
              "      <th>2</th>\n",
              "      <td>s3</td>\n",
              "      <td>Movie</td>\n",
              "      <td>Secrets of Deception</td>\n",
              "      <td>Josh Webber</td>\n",
              "      <td>Tom Sizemore, Lorenzo Lamas, Robert LaSardo, R...</td>\n",
              "      <td>United States</td>\n",
              "      <td>March 30, 2021</td>\n",
              "      <td>2017</td>\n",
              "      <td>NaN</td>\n",
              "      <td>74 min</td>\n",
              "      <td>Action, Drama, Suspense</td>\n",
              "      <td>After a man discovers his wife is cheating on ...</td>\n",
              "    </tr>\n",
              "    <tr>\n",
              "      <th>3</th>\n",
              "      <td>s4</td>\n",
              "      <td>Movie</td>\n",
              "      <td>Pink: Staying True</td>\n",
              "      <td>Sonia Anderson</td>\n",
              "      <td>Interviews with: Pink, Adele, Beyoncé, Britney...</td>\n",
              "      <td>United States</td>\n",
              "      <td>March 30, 2021</td>\n",
              "      <td>2014</td>\n",
              "      <td>NaN</td>\n",
              "      <td>69 min</td>\n",
              "      <td>Documentary</td>\n",
              "      <td>Pink breaks the mold once again, bringing her ...</td>\n",
              "    </tr>\n",
              "    <tr>\n",
              "      <th>4</th>\n",
              "      <td>s5</td>\n",
              "      <td>Movie</td>\n",
              "      <td>Monster Maker</td>\n",
              "      <td>Giles Foster</td>\n",
              "      <td>Harry Dean Stanton, Kieran O'Brien, George Cos...</td>\n",
              "      <td>United Kingdom</td>\n",
              "      <td>March 30, 2021</td>\n",
              "      <td>1989</td>\n",
              "      <td>NaN</td>\n",
              "      <td>45 min</td>\n",
              "      <td>Drama, Fantasy</td>\n",
              "      <td>Teenage Matt Banting wants to work with a famo...</td>\n",
              "    </tr>\n",
              "  </tbody>\n",
              "</table>\n",
              "</div>"
            ],
            "text/plain": [
              "  show_id   type                 title        director  \\\n",
              "0      s1  Movie   The Grand Seduction    Don McKellar   \n",
              "1      s2  Movie  Take Care Good Night    Girish Joshi   \n",
              "2      s3  Movie  Secrets of Deception     Josh Webber   \n",
              "3      s4  Movie    Pink: Staying True  Sonia Anderson   \n",
              "4      s5  Movie         Monster Maker    Giles Foster   \n",
              "\n",
              "                                                cast         country  \\\n",
              "0     Brendan Gleeson, Taylor Kitsch, Gordon Pinsent          Canada   \n",
              "1   Mahesh Manjrekar, Abhay Mahajan, Sachin Khedekar           India   \n",
              "2  Tom Sizemore, Lorenzo Lamas, Robert LaSardo, R...   United States   \n",
              "3  Interviews with: Pink, Adele, Beyoncé, Britney...   United States   \n",
              "4  Harry Dean Stanton, Kieran O'Brien, George Cos...  United Kingdom   \n",
              "\n",
              "       date_added  release_year rating duration                listed_in  \\\n",
              "0  March 30, 2021          2014    NaN  113 min            Comedy, Drama   \n",
              "1  March 30, 2021          2018    13+  110 min     Drama, International   \n",
              "2  March 30, 2021          2017    NaN   74 min  Action, Drama, Suspense   \n",
              "3  March 30, 2021          2014    NaN   69 min              Documentary   \n",
              "4  March 30, 2021          1989    NaN   45 min           Drama, Fantasy   \n",
              "\n",
              "                                         description  \n",
              "0  A small fishing village must procure a local d...  \n",
              "1  A Metro Family decides to fight a Cyber Crimin...  \n",
              "2  After a man discovers his wife is cheating on ...  \n",
              "3  Pink breaks the mold once again, bringing her ...  \n",
              "4  Teenage Matt Banting wants to work with a famo...  "
            ]
          },
          "execution_count": 6,
          "metadata": {},
          "output_type": "execute_result"
        }
      ],
      "source": [
        "df.head()"
      ]
    },
    {
      "cell_type": "code",
      "execution_count": null,
      "id": "fd11ec2a",
      "metadata": {
        "id": "fd11ec2a"
      },
      "outputs": [],
      "source": [
        "df['data_n']=pd.to_datetime(df['date_added'])"
      ]
    },
    {
      "cell_type": "code",
      "execution_count": null,
      "id": "c17c8652",
      "metadata": {
        "id": "c17c8652",
        "outputId": "ee4cc5af-2c55-4667-875c-6eef4fb10e6f"
      },
      "outputs": [
        {
          "data": {
            "text/html": [
              "<div>\n",
              "<style scoped>\n",
              "    .dataframe tbody tr th:only-of-type {\n",
              "        vertical-align: middle;\n",
              "    }\n",
              "\n",
              "    .dataframe tbody tr th {\n",
              "        vertical-align: top;\n",
              "    }\n",
              "\n",
              "    .dataframe thead th {\n",
              "        text-align: right;\n",
              "    }\n",
              "</style>\n",
              "<table border=\"1\" class=\"dataframe\">\n",
              "  <thead>\n",
              "    <tr style=\"text-align: right;\">\n",
              "      <th></th>\n",
              "      <th>show_id</th>\n",
              "      <th>type</th>\n",
              "      <th>title</th>\n",
              "      <th>director</th>\n",
              "      <th>cast</th>\n",
              "      <th>country</th>\n",
              "      <th>date_added</th>\n",
              "      <th>release_year</th>\n",
              "      <th>rating</th>\n",
              "      <th>duration</th>\n",
              "      <th>listed_in</th>\n",
              "      <th>description</th>\n",
              "      <th>data_n</th>\n",
              "    </tr>\n",
              "  </thead>\n",
              "  <tbody>\n",
              "    <tr>\n",
              "      <th>0</th>\n",
              "      <td>s1</td>\n",
              "      <td>Movie</td>\n",
              "      <td>The Grand Seduction</td>\n",
              "      <td>Don McKellar</td>\n",
              "      <td>Brendan Gleeson, Taylor Kitsch, Gordon Pinsent</td>\n",
              "      <td>Canada</td>\n",
              "      <td>March 30, 2021</td>\n",
              "      <td>2014</td>\n",
              "      <td>NaN</td>\n",
              "      <td>113 min</td>\n",
              "      <td>Comedy, Drama</td>\n",
              "      <td>A small fishing village must procure a local d...</td>\n",
              "      <td>2021-03-30</td>\n",
              "    </tr>\n",
              "    <tr>\n",
              "      <th>1</th>\n",
              "      <td>s2</td>\n",
              "      <td>Movie</td>\n",
              "      <td>Take Care Good Night</td>\n",
              "      <td>Girish Joshi</td>\n",
              "      <td>Mahesh Manjrekar, Abhay Mahajan, Sachin Khedekar</td>\n",
              "      <td>India</td>\n",
              "      <td>March 30, 2021</td>\n",
              "      <td>2018</td>\n",
              "      <td>13+</td>\n",
              "      <td>110 min</td>\n",
              "      <td>Drama, International</td>\n",
              "      <td>A Metro Family decides to fight a Cyber Crimin...</td>\n",
              "      <td>2021-03-30</td>\n",
              "    </tr>\n",
              "    <tr>\n",
              "      <th>2</th>\n",
              "      <td>s3</td>\n",
              "      <td>Movie</td>\n",
              "      <td>Secrets of Deception</td>\n",
              "      <td>Josh Webber</td>\n",
              "      <td>Tom Sizemore, Lorenzo Lamas, Robert LaSardo, R...</td>\n",
              "      <td>United States</td>\n",
              "      <td>March 30, 2021</td>\n",
              "      <td>2017</td>\n",
              "      <td>NaN</td>\n",
              "      <td>74 min</td>\n",
              "      <td>Action, Drama, Suspense</td>\n",
              "      <td>After a man discovers his wife is cheating on ...</td>\n",
              "      <td>2021-03-30</td>\n",
              "    </tr>\n",
              "    <tr>\n",
              "      <th>3</th>\n",
              "      <td>s4</td>\n",
              "      <td>Movie</td>\n",
              "      <td>Pink: Staying True</td>\n",
              "      <td>Sonia Anderson</td>\n",
              "      <td>Interviews with: Pink, Adele, Beyoncé, Britney...</td>\n",
              "      <td>United States</td>\n",
              "      <td>March 30, 2021</td>\n",
              "      <td>2014</td>\n",
              "      <td>NaN</td>\n",
              "      <td>69 min</td>\n",
              "      <td>Documentary</td>\n",
              "      <td>Pink breaks the mold once again, bringing her ...</td>\n",
              "      <td>2021-03-30</td>\n",
              "    </tr>\n",
              "    <tr>\n",
              "      <th>4</th>\n",
              "      <td>s5</td>\n",
              "      <td>Movie</td>\n",
              "      <td>Monster Maker</td>\n",
              "      <td>Giles Foster</td>\n",
              "      <td>Harry Dean Stanton, Kieran O'Brien, George Cos...</td>\n",
              "      <td>United Kingdom</td>\n",
              "      <td>March 30, 2021</td>\n",
              "      <td>1989</td>\n",
              "      <td>NaN</td>\n",
              "      <td>45 min</td>\n",
              "      <td>Drama, Fantasy</td>\n",
              "      <td>Teenage Matt Banting wants to work with a famo...</td>\n",
              "      <td>2021-03-30</td>\n",
              "    </tr>\n",
              "    <tr>\n",
              "      <th>...</th>\n",
              "      <td>...</td>\n",
              "      <td>...</td>\n",
              "      <td>...</td>\n",
              "      <td>...</td>\n",
              "      <td>...</td>\n",
              "      <td>...</td>\n",
              "      <td>...</td>\n",
              "      <td>...</td>\n",
              "      <td>...</td>\n",
              "      <td>...</td>\n",
              "      <td>...</td>\n",
              "      <td>...</td>\n",
              "      <td>...</td>\n",
              "    </tr>\n",
              "    <tr>\n",
              "      <th>9663</th>\n",
              "      <td>s9664</td>\n",
              "      <td>Movie</td>\n",
              "      <td>Pride Of The Bowery</td>\n",
              "      <td>Joseph H. Lewis</td>\n",
              "      <td>Leo Gorcey, Bobby Jordan</td>\n",
              "      <td>NaN</td>\n",
              "      <td>NaN</td>\n",
              "      <td>1940</td>\n",
              "      <td>7+</td>\n",
              "      <td>60 min</td>\n",
              "      <td>Comedy</td>\n",
              "      <td>New York City street principles get an East Si...</td>\n",
              "      <td>NaT</td>\n",
              "    </tr>\n",
              "    <tr>\n",
              "      <th>9664</th>\n",
              "      <td>s9665</td>\n",
              "      <td>TV Show</td>\n",
              "      <td>Planet Patrol</td>\n",
              "      <td>NaN</td>\n",
              "      <td>DICK VOSBURGH, RONNIE STEVENS, LIBBY MORRIS, M...</td>\n",
              "      <td>NaN</td>\n",
              "      <td>NaN</td>\n",
              "      <td>2018</td>\n",
              "      <td>13+</td>\n",
              "      <td>4 Seasons</td>\n",
              "      <td>TV Shows</td>\n",
              "      <td>This is Earth, 2100AD - and these are the adve...</td>\n",
              "      <td>NaT</td>\n",
              "    </tr>\n",
              "    <tr>\n",
              "      <th>9665</th>\n",
              "      <td>s9666</td>\n",
              "      <td>Movie</td>\n",
              "      <td>Outpost</td>\n",
              "      <td>Steve Barker</td>\n",
              "      <td>Ray Stevenson, Julian Wadham, Richard Brake, M...</td>\n",
              "      <td>NaN</td>\n",
              "      <td>NaN</td>\n",
              "      <td>2008</td>\n",
              "      <td>R</td>\n",
              "      <td>90 min</td>\n",
              "      <td>Action</td>\n",
              "      <td>In war-torn Eastern Europe, a world-weary grou...</td>\n",
              "      <td>NaT</td>\n",
              "    </tr>\n",
              "    <tr>\n",
              "      <th>9666</th>\n",
              "      <td>s9667</td>\n",
              "      <td>TV Show</td>\n",
              "      <td>Maradona: Blessed Dream</td>\n",
              "      <td>NaN</td>\n",
              "      <td>Esteban Recagno, Ezequiel Stremiz, Luciano Vit...</td>\n",
              "      <td>NaN</td>\n",
              "      <td>NaN</td>\n",
              "      <td>2021</td>\n",
              "      <td>TV-MA</td>\n",
              "      <td>1 Season</td>\n",
              "      <td>Drama, Sports</td>\n",
              "      <td>The series tells the story of Diego Maradona, ...</td>\n",
              "      <td>NaT</td>\n",
              "    </tr>\n",
              "    <tr>\n",
              "      <th>9667</th>\n",
              "      <td>s9668</td>\n",
              "      <td>Movie</td>\n",
              "      <td>Harry Brown</td>\n",
              "      <td>Daniel Barber</td>\n",
              "      <td>Michael Caine, Emily Mortimer, Joseph Gilgun, ...</td>\n",
              "      <td>NaN</td>\n",
              "      <td>NaN</td>\n",
              "      <td>2010</td>\n",
              "      <td>R</td>\n",
              "      <td>103 min</td>\n",
              "      <td>Action, Drama, Suspense</td>\n",
              "      <td>Harry Brown, starring two-time Academy Award w...</td>\n",
              "      <td>NaT</td>\n",
              "    </tr>\n",
              "  </tbody>\n",
              "</table>\n",
              "<p>9668 rows × 13 columns</p>\n",
              "</div>"
            ],
            "text/plain": [
              "     show_id     type                    title         director  \\\n",
              "0         s1    Movie      The Grand Seduction     Don McKellar   \n",
              "1         s2    Movie     Take Care Good Night     Girish Joshi   \n",
              "2         s3    Movie     Secrets of Deception      Josh Webber   \n",
              "3         s4    Movie       Pink: Staying True   Sonia Anderson   \n",
              "4         s5    Movie            Monster Maker     Giles Foster   \n",
              "...      ...      ...                      ...              ...   \n",
              "9663   s9664    Movie      Pride Of The Bowery  Joseph H. Lewis   \n",
              "9664   s9665  TV Show            Planet Patrol              NaN   \n",
              "9665   s9666    Movie                  Outpost     Steve Barker   \n",
              "9666   s9667  TV Show  Maradona: Blessed Dream              NaN   \n",
              "9667   s9668    Movie              Harry Brown    Daniel Barber   \n",
              "\n",
              "                                                   cast         country  \\\n",
              "0        Brendan Gleeson, Taylor Kitsch, Gordon Pinsent          Canada   \n",
              "1      Mahesh Manjrekar, Abhay Mahajan, Sachin Khedekar           India   \n",
              "2     Tom Sizemore, Lorenzo Lamas, Robert LaSardo, R...   United States   \n",
              "3     Interviews with: Pink, Adele, Beyoncé, Britney...   United States   \n",
              "4     Harry Dean Stanton, Kieran O'Brien, George Cos...  United Kingdom   \n",
              "...                                                 ...             ...   \n",
              "9663                           Leo Gorcey, Bobby Jordan             NaN   \n",
              "9664  DICK VOSBURGH, RONNIE STEVENS, LIBBY MORRIS, M...             NaN   \n",
              "9665  Ray Stevenson, Julian Wadham, Richard Brake, M...             NaN   \n",
              "9666  Esteban Recagno, Ezequiel Stremiz, Luciano Vit...             NaN   \n",
              "9667  Michael Caine, Emily Mortimer, Joseph Gilgun, ...             NaN   \n",
              "\n",
              "          date_added  release_year rating   duration                listed_in  \\\n",
              "0     March 30, 2021          2014    NaN    113 min            Comedy, Drama   \n",
              "1     March 30, 2021          2018    13+    110 min     Drama, International   \n",
              "2     March 30, 2021          2017    NaN     74 min  Action, Drama, Suspense   \n",
              "3     March 30, 2021          2014    NaN     69 min              Documentary   \n",
              "4     March 30, 2021          1989    NaN     45 min           Drama, Fantasy   \n",
              "...              ...           ...    ...        ...                      ...   \n",
              "9663             NaN          1940     7+     60 min                   Comedy   \n",
              "9664             NaN          2018    13+  4 Seasons                 TV Shows   \n",
              "9665             NaN          2008      R     90 min                   Action   \n",
              "9666             NaN          2021  TV-MA   1 Season            Drama, Sports   \n",
              "9667             NaN          2010      R    103 min  Action, Drama, Suspense   \n",
              "\n",
              "                                            description     data_n  \n",
              "0     A small fishing village must procure a local d... 2021-03-30  \n",
              "1     A Metro Family decides to fight a Cyber Crimin... 2021-03-30  \n",
              "2     After a man discovers his wife is cheating on ... 2021-03-30  \n",
              "3     Pink breaks the mold once again, bringing her ... 2021-03-30  \n",
              "4     Teenage Matt Banting wants to work with a famo... 2021-03-30  \n",
              "...                                                 ...        ...  \n",
              "9663  New York City street principles get an East Si...        NaT  \n",
              "9664  This is Earth, 2100AD - and these are the adve...        NaT  \n",
              "9665  In war-torn Eastern Europe, a world-weary grou...        NaT  \n",
              "9666  The series tells the story of Diego Maradona, ...        NaT  \n",
              "9667  Harry Brown, starring two-time Academy Award w...        NaT  \n",
              "\n",
              "[9668 rows x 13 columns]"
            ]
          },
          "execution_count": 36,
          "metadata": {},
          "output_type": "execute_result"
        }
      ],
      "source": [
        "df"
      ]
    },
    {
      "cell_type": "code",
      "execution_count": null,
      "id": "80450df5",
      "metadata": {
        "id": "80450df5",
        "outputId": "5dd5879a-e019-4648-b614-2db2a2eff174"
      },
      "outputs": [
        {
          "data": {
            "text/plain": [
              "show_id            0\n",
              "type               0\n",
              "title              0\n",
              "director        2082\n",
              "cast            1233\n",
              "country         8996\n",
              "date_added      9513\n",
              "release_year       0\n",
              "rating           337\n",
              "duration           0\n",
              "listed_in          0\n",
              "description        0\n",
              "dtype: int64"
            ]
          },
          "execution_count": 7,
          "metadata": {},
          "output_type": "execute_result"
        }
      ],
      "source": [
        "df.isnull().sum()"
      ]
    },
    {
      "cell_type": "code",
      "execution_count": null,
      "id": "8ade894c",
      "metadata": {
        "id": "8ade894c",
        "outputId": "14d9f5d5-3251-4046-c5ad-b357f340b725"
      },
      "outputs": [
        {
          "data": {
            "text/plain": [
              "(9668, 12)"
            ]
          },
          "execution_count": 8,
          "metadata": {},
          "output_type": "execute_result"
        }
      ],
      "source": [
        "df.shape"
      ]
    },
    {
      "cell_type": "code",
      "execution_count": null,
      "id": "6e47055d",
      "metadata": {
        "id": "6e47055d",
        "outputId": "598d580c-0785-4b37-c55b-5393e7d50f89"
      },
      "outputs": [
        {
          "data": {
            "text/plain": [
              "116016"
            ]
          },
          "execution_count": 9,
          "metadata": {},
          "output_type": "execute_result"
        }
      ],
      "source": [
        "df.size"
      ]
    },
    {
      "cell_type": "code",
      "execution_count": null,
      "id": "135c7aa7",
      "metadata": {
        "id": "135c7aa7",
        "outputId": "07e6ff89-4e90-4957-d761-8eb9bd1649f7"
      },
      "outputs": [
        {
          "data": {
            "text/plain": [
              "Index(['show_id', 'type', 'title', 'director', 'cast', 'country', 'date_added',\n",
              "       'release_year', 'rating', 'duration', 'listed_in', 'description'],\n",
              "      dtype='object')"
            ]
          },
          "execution_count": 10,
          "metadata": {},
          "output_type": "execute_result"
        }
      ],
      "source": [
        "df.columns"
      ]
    },
    {
      "cell_type": "markdown",
      "id": "0b92245c",
      "metadata": {
        "id": "0b92245c"
      },
      "source": [
        "# check if the are any duplicate values"
      ]
    },
    {
      "cell_type": "code",
      "execution_count": null,
      "id": "83c8d673",
      "metadata": {
        "id": "83c8d673",
        "outputId": "61505456-1b8a-4100-d1a7-41ae621d2e26"
      },
      "outputs": [
        {
          "data": {
            "text/plain": [
              "0"
            ]
          },
          "execution_count": 11,
          "metadata": {},
          "output_type": "execute_result"
        }
      ],
      "source": [
        "df.duplicated().sum()"
      ]
    },
    {
      "cell_type": "code",
      "execution_count": null,
      "id": "7ea20ac1",
      "metadata": {
        "id": "7ea20ac1",
        "outputId": "a2cfd572-2ecd-45f3-fbb8-43dfeb09c2bb"
      },
      "outputs": [
        {
          "data": {
            "text/html": [
              "<div>\n",
              "<style scoped>\n",
              "    .dataframe tbody tr th:only-of-type {\n",
              "        vertical-align: middle;\n",
              "    }\n",
              "\n",
              "    .dataframe tbody tr th {\n",
              "        vertical-align: top;\n",
              "    }\n",
              "\n",
              "    .dataframe thead th {\n",
              "        text-align: right;\n",
              "    }\n",
              "</style>\n",
              "<table border=\"1\" class=\"dataframe\">\n",
              "  <thead>\n",
              "    <tr style=\"text-align: right;\">\n",
              "      <th></th>\n",
              "      <th>show_id</th>\n",
              "      <th>type</th>\n",
              "      <th>title</th>\n",
              "      <th>director</th>\n",
              "      <th>cast</th>\n",
              "      <th>country</th>\n",
              "      <th>date_added</th>\n",
              "      <th>release_year</th>\n",
              "      <th>rating</th>\n",
              "      <th>duration</th>\n",
              "      <th>listed_in</th>\n",
              "      <th>description</th>\n",
              "    </tr>\n",
              "  </thead>\n",
              "  <tbody>\n",
              "  </tbody>\n",
              "</table>\n",
              "</div>"
            ],
            "text/plain": [
              "Empty DataFrame\n",
              "Columns: [show_id, type, title, director, cast, country, date_added, release_year, rating, duration, listed_in, description]\n",
              "Index: []"
            ]
          },
          "execution_count": 12,
          "metadata": {},
          "output_type": "execute_result"
        }
      ],
      "source": [
        "df[df.duplicated()]"
      ]
    },
    {
      "cell_type": "code",
      "execution_count": null,
      "id": "da678120",
      "metadata": {
        "id": "da678120"
      },
      "outputs": [],
      "source": [
        "#df.drop_duplicates(inplace = True)"
      ]
    },
    {
      "cell_type": "code",
      "execution_count": null,
      "id": "47286eca",
      "metadata": {
        "id": "47286eca"
      },
      "outputs": [],
      "source": [
        "#df[df.duplicated()]"
      ]
    },
    {
      "cell_type": "code",
      "execution_count": null,
      "id": "66af84fd",
      "metadata": {
        "id": "66af84fd"
      },
      "outputs": [],
      "source": [
        "#df.shape"
      ]
    },
    {
      "cell_type": "markdown",
      "id": "22efce33",
      "metadata": {
        "id": "22efce33"
      },
      "source": [
        "# check if the are any null values"
      ]
    },
    {
      "cell_type": "code",
      "execution_count": null,
      "id": "eca00398",
      "metadata": {
        "id": "eca00398",
        "outputId": "92e96aaa-099f-4d7b-9c73-f28f26e9795d"
      },
      "outputs": [
        {
          "data": {
            "text/plain": [
              "show_id            0\n",
              "type               0\n",
              "title              0\n",
              "director        2082\n",
              "cast            1233\n",
              "country         8996\n",
              "date_added      9513\n",
              "release_year       0\n",
              "rating           337\n",
              "duration           0\n",
              "listed_in          0\n",
              "description        0\n",
              "dtype: int64"
            ]
          },
          "execution_count": 16,
          "metadata": {},
          "output_type": "execute_result"
        }
      ],
      "source": [
        "df.isnull().sum()"
      ]
    },
    {
      "cell_type": "code",
      "execution_count": null,
      "id": "ebc22c78",
      "metadata": {
        "id": "ebc22c78"
      },
      "outputs": [],
      "source": [
        "import seaborn as sns"
      ]
    },
    {
      "cell_type": "code",
      "execution_count": null,
      "id": "e4f886c1",
      "metadata": {
        "id": "e4f886c1",
        "outputId": "93ee7cdb-a105-43c5-8728-453809db061b"
      },
      "outputs": [
        {
          "data": {
            "text/plain": [
              "<AxesSubplot:>"
            ]
          },
          "execution_count": 18,
          "metadata": {},
          "output_type": "execute_result"
        },
        {
          "data": {
            "image/png": "[encoded data removed]",
            "text/plain": [
              "<Figure size 640x480 with 2 Axes>"
            ]
          },
          "metadata": {},
          "output_type": "display_data"
        }
      ],
      "source": [
        "sns.heatmap(df.isnull())"
      ]
    },
    {
      "cell_type": "code",
      "execution_count": null,
      "id": "97b26c7e",
      "metadata": {
        "id": "97b26c7e",
        "outputId": "3e455dd9-75ae-495d-9919-3d7b64e1e84c"
      },
      "outputs": [
        {
          "name": "stderr",
          "output_type": "stream",
          "text": [
            "C:\\ProgramData\\Anaconda3\\lib\\site-packages\\seaborn\\_decorators.py:36: FutureWarning: Pass the following variable as a keyword arg: x. From version 0.12, the only valid positional argument will be `data`, and passing other arguments without an explicit keyword will result in an error or misinterpretation.\n",
            "  warnings.warn(\n"
          ]
        },
        {
          "data": {
            "text/plain": [
              "<AxesSubplot:xlabel='type', ylabel='count'>"
            ]
          },
          "execution_count": 19,
          "metadata": {},
          "output_type": "execute_result"
        },
        {
          "data": {
            "image/png": "[encoded data removed]",
            "text/plain": [
              "<Figure size 640x480 with 1 Axes>"
            ]
          },
          "metadata": {},
          "output_type": "display_data"
        }
      ],
      "source": [
        " sns.countplot(df['type'])"
      ]
    },
    {
      "cell_type": "code",
      "execution_count": null,
      "id": "1f962f4b",
      "metadata": {
        "id": "1f962f4b",
        "outputId": "d4053d4b-7290-40f3-fdab-fbb3b969ed57"
      },
      "outputs": [
        {
          "name": "stderr",
          "output_type": "stream",
          "text": [
            "C:\\ProgramData\\Anaconda3\\lib\\site-packages\\seaborn\\_decorators.py:36: FutureWarning: Pass the following variable as a keyword arg: x. From version 0.12, the only valid positional argument will be `data`, and passing other arguments without an explicit keyword will result in an error or misinterpretation.\n",
            "  warnings.warn(\n"
          ]
        },
        {
          "data": {
            "text/plain": [
              "<AxesSubplot:xlabel='rating', ylabel='count'>"
            ]
          },
          "execution_count": 20,
          "metadata": {},
          "output_type": "execute_result"
        },
        {
          "data": {
            "image/png": "[encoded data removed]",
            "text/plain": [
              "<Figure size 640x480 with 1 Axes>"
            ]
          },
          "metadata": {},
          "output_type": "display_data"
        }
      ],
      "source": [
        "sns.countplot(df['rating'])"
      ]
    },
    {
      "cell_type": "code",
      "execution_count": null,
      "id": "bbba59c6",
      "metadata": {
        "id": "bbba59c6",
        "outputId": "5d0e7eed-5468-4918-b346-4a4aa2c0e11c"
      },
      "outputs": [
        {
          "data": {
            "text/plain": [
              "array([nan, '13+', 'ALL', '18+', 'R', 'TV-Y', 'TV-Y7', 'NR', '16+',\n",
              "       'TV-PG', '7+', 'TV-14', 'TV-NR', 'TV-G', 'PG-13', 'TV-MA', 'G',\n",
              "       'PG', 'NC-17', 'UNRATED', '16', 'AGES_16_', 'AGES_18_', 'ALL_AGES',\n",
              "       'NOT_RATE'], dtype=object)"
            ]
          },
          "execution_count": 21,
          "metadata": {},
          "output_type": "execute_result"
        }
      ],
      "source": [
        "df['rating'].unique()"
      ]
    },
    {
      "cell_type": "code",
      "execution_count": null,
      "id": "a424d332",
      "metadata": {
        "id": "a424d332",
        "outputId": "85ee4a2c-df71-478a-c137-b2ba0f377813"
      },
      "outputs": [
        {
          "data": {
            "text/plain": [
              "9668"
            ]
          },
          "execution_count": 22,
          "metadata": {},
          "output_type": "execute_result"
        }
      ],
      "source": [
        "df.type.count()"
      ]
    },
    {
      "cell_type": "code",
      "execution_count": null,
      "id": "8c5696b7",
      "metadata": {
        "id": "8c5696b7",
        "outputId": "de2fe00e-0e50-48da-a267-5498bb5ed553"
      },
      "outputs": [
        {
          "data": {
            "text/plain": [
              "672"
            ]
          },
          "execution_count": 23,
          "metadata": {},
          "output_type": "execute_result"
        }
      ],
      "source": [
        "df.country.count()"
      ]
    },
    {
      "cell_type": "code",
      "execution_count": null,
      "id": "be3c2015",
      "metadata": {
        "id": "be3c2015",
        "outputId": "2c06c549-0ad6-4c68-cc78-1fd5ded9be07"
      },
      "outputs": [
        {
          "data": {
            "text/plain": [
              "9331"
            ]
          },
          "execution_count": 24,
          "metadata": {},
          "output_type": "execute_result"
        }
      ],
      "source": [
        "df.rating.count()"
      ]
    },
    {
      "cell_type": "code",
      "execution_count": null,
      "id": "375e58fa",
      "metadata": {
        "id": "375e58fa",
        "outputId": "077c1c1e-5458-4fc5-e814-47aadbcff1e8"
      },
      "outputs": [
        {
          "data": {
            "text/plain": [
              "Drama                                                                            986\n",
              "Comedy                                                                           536\n",
              "Drama, Suspense                                                                  399\n",
              "Comedy, Drama                                                                    377\n",
              "Animation, Kids                                                                  356\n",
              "                                                                                ... \n",
              "Arts, Entertainment, and Culture, Music Videos and Concerts, Special Interest      1\n",
              "Arts, Entertainment, and Culture, Comedy, Military and War                         1\n",
              "Comedy, Faith and Spirituality, Kids                                               1\n",
              "Arts, Entertainment, and Culture, Fantasy, Kids                                    1\n",
              "Anime, Comedy, Drama                                                               1\n",
              "Name: listed_in, Length: 518, dtype: int64"
            ]
          },
          "execution_count": 25,
          "metadata": {},
          "output_type": "execute_result"
        }
      ],
      "source": [
        "df['listed_in'].value_counts()"
      ]
    },
    {
      "cell_type": "code",
      "execution_count": null,
      "id": "3759cb4a",
      "metadata": {
        "id": "3759cb4a",
        "outputId": "bb11d504-0c2d-4b22-889f-16dcb0096abe"
      },
      "outputs": [
        {
          "data": {
            "text/plain": [
              "469      s470\n",
              "814      s815\n",
              "937      s938\n",
              "1397    s1398\n",
              "1420    s1421\n",
              "1651    s1652\n",
              "1748    s1749\n",
              "1774    s1775\n",
              "2032    s2033\n",
              "2102    s2103\n",
              "2434    s2435\n",
              "2802    s2803\n",
              "2803    s2804\n",
              "3154    s3155\n",
              "3156    s3157\n",
              "5197    s5198\n",
              "Name: show_id, dtype: object"
            ]
          },
          "execution_count": 29,
          "metadata": {},
          "output_type": "execute_result"
        }
      ],
      "source": [
        "df[(df['type']=='TV Show')&(df['country']=='India')]['show_id']"
      ]
    },
    {
      "cell_type": "code",
      "execution_count": null,
      "id": "6bff8388",
      "metadata": {
        "id": "6bff8388",
        "outputId": "678936a1-86bb-4b61-d01a-9a236e11b9d2"
      },
      "outputs": [
        {
          "data": {
            "text/plain": [
              "0       2014\n",
              "1       2018\n",
              "2       2017\n",
              "3       2014\n",
              "4       1989\n",
              "        ... \n",
              "9663    1940\n",
              "9664    2018\n",
              "9665    2008\n",
              "9666    2021\n",
              "9667    2010\n",
              "Name: release_year, Length: 9668, dtype: int64"
            ]
          },
          "execution_count": 33,
          "metadata": {},
          "output_type": "execute_result"
        }
      ],
      "source": [
        "df['release_year']"
      ]
    },
    {
      "cell_type": "code",
      "execution_count": null,
      "id": "c7d84c17",
      "metadata": {
        "id": "c7d84c17",
        "outputId": "515a404f-143b-4fe9-9fa6-76704730a89c"
      },
      "outputs": [
        {
          "data": {
            "text/plain": [
              "March 30, 2021        14\n",
              "August 27, 2021        6\n",
              "June 11, 2021          4\n",
              "October 2, 2021        4\n",
              "September 26, 2021     4\n",
              "                      ..\n",
              "July 27, 2021          1\n",
              "April 26, 2021         1\n",
              "August 14, 2021        1\n",
              "August 15, 2021        1\n",
              "July 20, 2021          1\n",
              "Name: date_added, Length: 84, dtype: int64"
            ]
          },
          "execution_count": 42,
          "metadata": {},
          "output_type": "execute_result"
        }
      ],
      "source": [
        "df['date_added'].value_counts()"
      ]
    },
    {
      "cell_type": "code",
      "execution_count": null,
      "id": "6da8daaa",
      "metadata": {
        "id": "6da8daaa",
        "outputId": "57a5a1e2-8300-4e5f-8ef6-fea2e9e31375"
      },
      "outputs": [
        {
          "data": {
            "text/html": [
              "<div>\n",
              "<style scoped>\n",
              "    .dataframe tbody tr th:only-of-type {\n",
              "        vertical-align: middle;\n",
              "    }\n",
              "\n",
              "    .dataframe tbody tr th {\n",
              "        vertical-align: top;\n",
              "    }\n",
              "\n",
              "    .dataframe thead th {\n",
              "        text-align: right;\n",
              "    }\n",
              "</style>\n",
              "<table border=\"1\" class=\"dataframe\">\n",
              "  <thead>\n",
              "    <tr style=\"text-align: right;\">\n",
              "      <th></th>\n",
              "      <th>show_id</th>\n",
              "      <th>type</th>\n",
              "      <th>title</th>\n",
              "      <th>director</th>\n",
              "      <th>cast</th>\n",
              "      <th>country</th>\n",
              "      <th>date_added</th>\n",
              "      <th>release_year</th>\n",
              "      <th>rating</th>\n",
              "      <th>duration</th>\n",
              "      <th>listed_in</th>\n",
              "      <th>description</th>\n",
              "      <th>data_n</th>\n",
              "    </tr>\n",
              "  </thead>\n",
              "  <tbody>\n",
              "    <tr>\n",
              "      <th>2979</th>\n",
              "      <td>s2980</td>\n",
              "      <td>Movie</td>\n",
              "      <td>Branded a Coward</td>\n",
              "      <td>Sam Newfield</td>\n",
              "      <td>Johnny Mack Brown, Billie Seward, Yakima Canut...</td>\n",
              "      <td>NaN</td>\n",
              "      <td>NaN</td>\n",
              "      <td>1935</td>\n",
              "      <td>13+</td>\n",
              "      <td>65 min</td>\n",
              "      <td>Western</td>\n",
              "      <td>After young Johnny Hume (Brown) watches his mo...</td>\n",
              "      <td>NaT</td>\n",
              "    </tr>\n",
              "    <tr>\n",
              "      <th>6429</th>\n",
              "      <td>s6430</td>\n",
              "      <td>Movie</td>\n",
              "      <td>Virus Shark</td>\n",
              "      <td>Mark Polonia</td>\n",
              "      <td>NaN</td>\n",
              "      <td>NaN</td>\n",
              "      <td>NaN</td>\n",
              "      <td>2021</td>\n",
              "      <td>16+</td>\n",
              "      <td>74 min</td>\n",
              "      <td>Science Fiction</td>\n",
              "      <td>A shark bite spreads a virus across the globe,...</td>\n",
              "      <td>NaT</td>\n",
              "    </tr>\n",
              "    <tr>\n",
              "      <th>7136</th>\n",
              "      <td>s7137</td>\n",
              "      <td>Movie</td>\n",
              "      <td>Dirty God</td>\n",
              "      <td>Sacha Polak</td>\n",
              "      <td>Vicky Knight, Katherine Kelly, Eliza Brady-Gir...</td>\n",
              "      <td>NaN</td>\n",
              "      <td>NaN</td>\n",
              "      <td>2020</td>\n",
              "      <td>13+</td>\n",
              "      <td>104 min</td>\n",
              "      <td>Drama</td>\n",
              "      <td>Jade is a young single mother severely burned ...</td>\n",
              "      <td>NaT</td>\n",
              "    </tr>\n",
              "    <tr>\n",
              "      <th>4440</th>\n",
              "      <td>s4441</td>\n",
              "      <td>Movie</td>\n",
              "      <td>Locusts</td>\n",
              "      <td>Heath Davis</td>\n",
              "      <td>Jessica McNamee, Ben Geurens, Nathaniel Dean, ...</td>\n",
              "      <td>NaN</td>\n",
              "      <td>NaN</td>\n",
              "      <td>2020</td>\n",
              "      <td>NaN</td>\n",
              "      <td>85 min</td>\n",
              "      <td>Drama, Suspense</td>\n",
              "      <td>When tech entrepreneur Ryan Black returns to h...</td>\n",
              "      <td>NaT</td>\n",
              "    </tr>\n",
              "    <tr>\n",
              "      <th>2101</th>\n",
              "      <td>s2102</td>\n",
              "      <td>Movie</td>\n",
              "      <td>Inside Italy's COVID War</td>\n",
              "      <td>Sasha Joelle Achilli</td>\n",
              "      <td>NaN</td>\n",
              "      <td>NaN</td>\n",
              "      <td>NaN</td>\n",
              "      <td>2020</td>\n",
              "      <td>NaN</td>\n",
              "      <td>53 min</td>\n",
              "      <td>Documentary, Special Interest</td>\n",
              "      <td>Inside a hospital battling COVID-19 in Norther...</td>\n",
              "      <td>NaT</td>\n",
              "    </tr>\n",
              "  </tbody>\n",
              "</table>\n",
              "</div>"
            ],
            "text/plain": [
              "     show_id   type                     title              director  \\\n",
              "2979   s2980  Movie          Branded a Coward          Sam Newfield   \n",
              "6429   s6430  Movie               Virus Shark          Mark Polonia   \n",
              "7136   s7137  Movie                 Dirty God           Sacha Polak   \n",
              "4440   s4441  Movie                   Locusts           Heath Davis   \n",
              "2101   s2102  Movie  Inside Italy's COVID War  Sasha Joelle Achilli   \n",
              "\n",
              "                                                   cast country date_added  \\\n",
              "2979  Johnny Mack Brown, Billie Seward, Yakima Canut...     NaN        NaN   \n",
              "6429                                                NaN     NaN        NaN   \n",
              "7136  Vicky Knight, Katherine Kelly, Eliza Brady-Gir...     NaN        NaN   \n",
              "4440  Jessica McNamee, Ben Geurens, Nathaniel Dean, ...     NaN        NaN   \n",
              "2101                                                NaN     NaN        NaN   \n",
              "\n",
              "      release_year rating duration                      listed_in  \\\n",
              "2979          1935    13+   65 min                        Western   \n",
              "6429          2021    16+   74 min                Science Fiction   \n",
              "7136          2020    13+  104 min                          Drama   \n",
              "4440          2020    NaN   85 min                Drama, Suspense   \n",
              "2101          2020    NaN   53 min  Documentary, Special Interest   \n",
              "\n",
              "                                            description data_n  \n",
              "2979  After young Johnny Hume (Brown) watches his mo...    NaT  \n",
              "6429  A shark bite spreads a virus across the globe,...    NaT  \n",
              "7136  Jade is a young single mother severely burned ...    NaT  \n",
              "4440  When tech entrepreneur Ryan Black returns to h...    NaT  \n",
              "2101  Inside a hospital battling COVID-19 in Norther...    NaT  "
            ]
          },
          "execution_count": 41,
          "metadata": {},
          "output_type": "execute_result"
        }
      ],
      "source": [
        "df.sample(5)"
      ]
    },
    {
      "cell_type": "code",
      "execution_count": null,
      "id": "4782b091",
      "metadata": {
        "id": "4782b091",
        "outputId": "c410a704-b922-49bd-e0a8-10c458e0878e"
      },
      "outputs": [
        {
          "data": {
            "text/plain": [
              "Drama                                                                            986\n",
              "Comedy                                                                           536\n",
              "Drama, Suspense                                                                  399\n",
              "Comedy, Drama                                                                    377\n",
              "Animation, Kids                                                                  356\n",
              "                                                                                ... \n",
              "Arts, Entertainment, and Culture, Music Videos and Concerts, Special Interest      1\n",
              "Arts, Entertainment, and Culture, Comedy, Military and War                         1\n",
              "Comedy, Faith and Spirituality, Kids                                               1\n",
              "Arts, Entertainment, and Culture, Fantasy, Kids                                    1\n",
              "Anime, Comedy, Drama                                                               1\n",
              "Name: listed_in, Length: 518, dtype: int64"
            ]
          },
          "execution_count": 50,
          "metadata": {},
          "output_type": "execute_result"
        }
      ],
      "source": [
        "df['listed_in'].value_counts()"
      ]
    },
    {
      "cell_type": "code",
      "execution_count": null,
      "id": "bb1e8ee9",
      "metadata": {
        "id": "bb1e8ee9",
        "outputId": "ab9afb72-81ab-4a1e-fe12-ec46719e70e1"
      },
      "outputs": [
        {
          "data": {
            "text/plain": [
              "United States                            253\n",
              "India                                    229\n",
              "United Kingdom                            28\n",
              "Canada                                    16\n",
              "United Kingdom, United States             12\n",
              "                                        ... \n",
              "United States, Germany, Brazil, Italy      1\n",
              "South Africa                               1\n",
              "Australia, United States, Germany          1\n",
              "Germany, Austria, United States            1\n",
              "Italy, Spain                               1\n",
              "Name: country, Length: 86, dtype: int64"
            ]
          },
          "execution_count": 51,
          "metadata": {},
          "output_type": "execute_result"
        }
      ],
      "source": [
        "df['country'].value_counts()"
      ]
    },
    {
      "cell_type": "code",
      "execution_count": null,
      "id": "e3654185",
      "metadata": {
        "id": "e3654185",
        "outputId": "e9fd3b3c-c9ee-48ef-eaff-592b418b7013"
      },
      "outputs": [
        {
          "data": {
            "text/plain": [
              "Movie      7814\n",
              "TV Show    1854\n",
              "Name: type, dtype: int64"
            ]
          },
          "execution_count": 52,
          "metadata": {},
          "output_type": "execute_result"
        }
      ],
      "source": [
        "df['type'].value_counts()"
      ]
    },
    {
      "cell_type": "code",
      "execution_count": null,
      "id": "c5236158",
      "metadata": {
        "id": "c5236158"
      },
      "outputs": [],
      "source": []
    },
    {
      "cell_type": "code",
      "execution_count": null,
      "id": "291155fb",
      "metadata": {
        "id": "291155fb"
      },
      "outputs": [],
      "source": []
    }
  ],
  "metadata": {
    "kernelspec": {
      "display_name": "Python 3 (ipykernel)",
      "language": "python",
      "name": "python3"
    },
    "language_info": {
      "codemirror_mode": {
        "name": "ipython",
        "version": 3
      },
      "file_extension": ".py",
      "mimetype": "text/x-python",
      "name": "python",
      "nbconvert_exporter": "python",
      "pygments_lexer": "ipython3",
      "version": "3.9.13"
    },
    "colab": {
      "provenance": [],
      "include_colab_link": true
    }
  },
  "nbformat": 4,
  "nbformat_minor": 5
}